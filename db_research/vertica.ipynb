{
 "cells": [
  {
   "cell_type": "markdown",
   "id": "cf091a3e",
   "metadata": {},
   "source": [
    "## Исследование Vertica"
   ]
  },
  {
   "cell_type": "markdown",
   "id": "e06fdd3e",
   "metadata": {},
   "source": [
    "## Подготовка базы данных"
   ]
  },
  {
   "cell_type": "code",
   "execution_count": 119,
   "id": "40edfefb",
   "metadata": {},
   "outputs": [],
   "source": [
    "connection_info = {\n",
    "    'host': '127.0.0.1',\n",
    "    'port': 5433,\n",
    "    'user': 'dbadmin',\n",
    "    'password': '',\n",
    "    'database': 'docker',\n",
    "    'autocommit': True,\n",
    "}"
   ]
  },
  {
   "cell_type": "code",
   "execution_count": 120,
   "id": "b669c116",
   "metadata": {},
   "outputs": [],
   "source": [
    "import vertica_python\n",
    "\n",
    "\n",
    "with vertica_python.connect(**connection_info) as connection:\n",
    "    cursor = connection.cursor()\n",
    "    cursor.execute(\"\"\"\n",
    "    CREATE TABLE views (\n",
    "        id IDENTITY,\n",
    "        user_id INTEGER NOT NULL,\n",
    "        movie_id VARCHAR(256) NOT NULL,\n",
    "        viewed_frame INTEGER NOT NULL\n",
    "    );\n",
    "    \"\"\")"
   ]
  },
  {
   "cell_type": "markdown",
   "id": "084448a0",
   "metadata": {},
   "source": [
    "## Подготовка скрипта для генерации данных и тестирования быстродействия"
   ]
  },
  {
   "cell_type": "code",
   "execution_count": 43,
   "id": "23efd040",
   "metadata": {},
   "outputs": [],
   "source": [
    "import uuid\n",
    "from random import randint\n",
    "\n",
    "\n",
    "def generate_progress_data(count: int):\n",
    "    chunk = []\n",
    "    \n",
    "    for _ in range(count):\n",
    "        user_id = randint(1, 1_000_000_000)\n",
    "        viewed_frame = randint(1, 1_000_000_000)\n",
    "        chunk.append((user_id, str(uuid.uuid4()), viewed_frame))\n",
    "\n",
    "    return chunk"
   ]
  },
  {
   "cell_type": "code",
   "execution_count": 40,
   "id": "8e573010",
   "metadata": {},
   "outputs": [],
   "source": [
    "import time\n",
    "import statistics\n",
    "\n",
    "class TimerCode():\n",
    "    def __init__(self):\n",
    "        self.start = time.time()\n",
    "        self.durations = []\n",
    "        \n",
    "    def setup_start_time(self):\n",
    "        self.start = time.time()\n",
    "\n",
    "    def checkpoint(self):\n",
    "        end_time = time.time()\n",
    "        self.durations.append(end_time - self.start)\n",
    "        self.start = end_time\n",
    "\n",
    "    def __enter__(self):\n",
    "        return self\n",
    "\n",
    "    def __exit__(self, type, value, traceback):\n",
    "        print(f\"Median - {statistics.median(self.durations)}\")\n",
    "        avg = sum(self.durations) / len(self.durations)\n",
    "        print(f\"Average - {avg}\")\n",
    "        print(f\"Summary - {sum(self.durations)}\")"
   ]
  },
  {
   "cell_type": "markdown",
   "id": "19ac220d",
   "metadata": {},
   "source": [
    "## Тестироване вставки данных"
   ]
  },
  {
   "cell_type": "code",
   "execution_count": 45,
   "id": "887d3279",
   "metadata": {},
   "outputs": [
    {
     "name": "stdout",
     "output_type": "stream",
     "text": [
      "Median - 0.1892249584197998\n",
      "Average - 0.1892249584197998\n",
      "Summary - 0.1892249584197998\n"
     ]
    }
   ],
   "source": [
    "# тестируем вставку данных списком из 100 штук\n",
    "\n",
    "import vertica_python\n",
    "\n",
    "with TimerCode() as timer:\n",
    "    with vertica_python.connect(**connection_info) as connection:\n",
    "        chunk = generate_progress_data(100)\n",
    "        cursor = connection.cursor()\n",
    "        timer.setup_start_time()\n",
    "        cursor.executemany(\"INSERT INTO views(user_id, movie_id, viewed_frame) VALUES (%s, %s, %s)\",\n",
    "        chunk)\n",
    "        timer.checkpoint()\n",
    "    "
   ]
  },
  {
   "cell_type": "code",
   "execution_count": 58,
   "id": "217b88e7",
   "metadata": {},
   "outputs": [
    {
     "name": "stdout",
     "output_type": "stream",
     "text": [
      "Median - 0.09809112548828125\n",
      "Average - 0.09809112548828125\n",
      "Summary - 0.09809112548828125\n"
     ]
    }
   ],
   "source": [
    "# тестируем вставку данных списком из 250 штук\n",
    "\n",
    "import vertica_python\n",
    "\n",
    "with TimerCode() as timer:\n",
    "    with vertica_python.connect(**connection_info) as connection:\n",
    "        chunk = generate_progress_data(250)\n",
    "        cursor = connection.cursor()\n",
    "        timer.setup_start_time()\n",
    "        cursor.executemany(\"INSERT INTO views(user_id, movie_id, viewed_frame) VALUES (%s, %s, %s)\",\n",
    "        chunk)\n",
    "        timer.checkpoint()"
   ]
  },
  {
   "cell_type": "code",
   "execution_count": 59,
   "id": "1586b55f",
   "metadata": {},
   "outputs": [
    {
     "name": "stdout",
     "output_type": "stream",
     "text": [
      "Median - 0.10187697410583496\n",
      "Average - 0.10187697410583496\n",
      "Summary - 0.10187697410583496\n"
     ]
    }
   ],
   "source": [
    "# тестируем вставку данных списком из 500 штук\n",
    "\n",
    "import vertica_python\n",
    "\n",
    "with TimerCode() as timer:\n",
    "    with vertica_python.connect(**connection_info) as connection:\n",
    "        chunk = generate_progress_data(500)\n",
    "        cursor = connection.cursor()\n",
    "        timer.setup_start_time()\n",
    "        cursor.executemany(\"INSERT INTO views(user_id, movie_id, viewed_frame) VALUES (%s, %s, %s)\",\n",
    "        chunk)\n",
    "        timer.checkpoint()"
   ]
  },
  {
   "cell_type": "code",
   "execution_count": 60,
   "id": "b79a295f",
   "metadata": {},
   "outputs": [
    {
     "name": "stdout",
     "output_type": "stream",
     "text": [
      "Median - 0.12445902824401855\n",
      "Average - 0.12445902824401855\n",
      "Summary - 0.12445902824401855\n"
     ]
    }
   ],
   "source": [
    "# тестируем вставку данных списком из 850 штук\n",
    "\n",
    "import vertica_python\n",
    "\n",
    "with TimerCode() as timer:\n",
    "    with vertica_python.connect(**connection_info) as connection:\n",
    "        chunk = generate_progress_data(850)\n",
    "        cursor = connection.cursor()\n",
    "        timer.setup_start_time()\n",
    "        cursor.executemany(\"INSERT INTO views(user_id, movie_id, viewed_frame) VALUES (%s, %s, %s)\",\n",
    "        chunk)\n",
    "        timer.checkpoint()"
   ]
  },
  {
   "cell_type": "code",
   "execution_count": 46,
   "id": "f0d8b297",
   "metadata": {},
   "outputs": [
    {
     "name": "stdout",
     "output_type": "stream",
     "text": [
      "Median - 0.14134716987609863\n",
      "Average - 0.14134716987609863\n",
      "Summary - 0.14134716987609863\n"
     ]
    }
   ],
   "source": [
    "# тестируем вставку данных списком из 1_000 штук\n",
    "\n",
    "import vertica_python\n",
    "\n",
    "with TimerCode() as timer:\n",
    "    with vertica_python.connect(**connection_info) as connection:\n",
    "        chunk = generate_progress_data(1_000)\n",
    "        cursor = connection.cursor()\n",
    "        timer.setup_start_time()\n",
    "        cursor.executemany(\"INSERT INTO views(user_id, movie_id, viewed_frame) VALUES (%s, %s, %s)\",\n",
    "        chunk)\n",
    "        timer.checkpoint()"
   ]
  },
  {
   "cell_type": "code",
   "execution_count": 47,
   "id": "a4966360",
   "metadata": {},
   "outputs": [
    {
     "name": "stdout",
     "output_type": "stream",
     "text": [
      "Median - 1.0215561389923096\n",
      "Average - 1.0215561389923096\n",
      "Summary - 1.0215561389923096\n"
     ]
    }
   ],
   "source": [
    "# тестируем вставку данных списком из 10_000 штук\n",
    "\n",
    "import vertica_python\n",
    "\n",
    "with TimerCode() as timer:\n",
    "    with vertica_python.connect(**connection_info) as connection:\n",
    "        chunk = generate_progress_data(10_000)\n",
    "        cursor = connection.cursor()\n",
    "        timer.setup_start_time()\n",
    "        cursor.executemany(\"INSERT INTO views(user_id, movie_id, viewed_frame) VALUES (%s, %s, %s)\",\n",
    "        chunk)\n",
    "        timer.checkpoint()"
   ]
  },
  {
   "cell_type": "code",
   "execution_count": 51,
   "id": "6282c72e",
   "metadata": {},
   "outputs": [
    {
     "name": "stdout",
     "output_type": "stream",
     "text": [
      "Median - 0.35663485527038574\n",
      "Average - 0.35663485527038574\n",
      "Summary - 0.35663485527038574\n"
     ]
    }
   ],
   "source": [
    "# тестируем вставку данных списком из 50_000 штук\n",
    "\n",
    "import vertica_python\n",
    "\n",
    "with TimerCode() as timer:\n",
    "    with vertica_python.connect(**connection_info) as connection:\n",
    "        chunk = generate_progress_data(50_000)\n",
    "        cursor = connection.cursor()\n",
    "        timer.setup_start_time()\n",
    "        cursor.executemany(\"INSERT INTO views(user_id, movie_id, viewed_frame) VALUES (%s, %s, %s)\",\n",
    "        chunk)\n",
    "        timer.checkpoint()"
   ]
  },
  {
   "cell_type": "code",
   "execution_count": 52,
   "id": "a0138cc4",
   "metadata": {},
   "outputs": [
    {
     "name": "stdout",
     "output_type": "stream",
     "text": [
      "Median - 0.6463849544525146\n",
      "Average - 0.6463849544525146\n",
      "Summary - 0.6463849544525146\n"
     ]
    }
   ],
   "source": [
    "# тестируем вставку данных списком из 100_000 штук\n",
    "\n",
    "import vertica_python\n",
    "\n",
    "with TimerCode() as timer:\n",
    "    with vertica_python.connect(**connection_info) as connection:\n",
    "        chunk = generate_progress_data(100_000)\n",
    "        cursor = connection.cursor()\n",
    "        timer.setup_start_time()\n",
    "        cursor.executemany(\"INSERT INTO views(user_id, movie_id, viewed_frame) VALUES (%s, %s, %s)\",\n",
    "        chunk)\n",
    "        timer.checkpoint()"
   ]
  },
  {
   "cell_type": "code",
   "execution_count": 53,
   "id": "d4a58f2b",
   "metadata": {},
   "outputs": [
    {
     "name": "stdout",
     "output_type": "stream",
     "text": [
      "Median - 6.648721933364868\n",
      "Average - 6.648721933364868\n",
      "Summary - 6.648721933364868\n"
     ]
    }
   ],
   "source": [
    "# тестируем вставку данных списком из 1_000_000 штук\n",
    "\n",
    "import vertica_python\n",
    "\n",
    "with TimerCode() as timer:\n",
    "    with vertica_python.connect(**connection_info) as connection:\n",
    "        chunk = generate_progress_data(1_000_000)\n",
    "        cursor = connection.cursor()\n",
    "        timer.setup_start_time()\n",
    "        cursor.executemany(\"INSERT INTO views(user_id, movie_id, viewed_frame) VALUES (%s, %s, %s)\",\n",
    "        chunk)\n",
    "        timer.checkpoint()"
   ]
  },
  {
   "cell_type": "code",
   "execution_count": 64,
   "id": "a8ec10cc",
   "metadata": {},
   "outputs": [
    {
     "name": "stdout",
     "output_type": "stream",
     "text": [
      "Median - 43.139312982559204\n",
      "Average - 43.139312982559204\n",
      "Summary - 43.139312982559204\n"
     ]
    }
   ],
   "source": [
    "# тестируем вставку данных списком из 5_000_000 штук\n",
    "\n",
    "import vertica_python\n",
    "\n",
    "with TimerCode() as timer:\n",
    "    with vertica_python.connect(**connection_info) as connection:\n",
    "        chunk = generate_progress_data(5_000_000)\n",
    "        cursor = connection.cursor()\n",
    "        timer.setup_start_time()\n",
    "        cursor.executemany(\"INSERT INTO views(user_id, movie_id, viewed_frame) VALUES (%s, %s, %s)\",\n",
    "        chunk)\n",
    "        timer.checkpoint()"
   ]
  },
  {
   "cell_type": "markdown",
   "id": "ca3ad2f7",
   "metadata": {},
   "source": [
    "## Тестирование чтения данных\n",
    "\n",
    "На момент исследования количество записей в базе\n",
    "\n",
    "```\n",
    "with vertica_python.connect(**connection_info) as connection:\n",
    "    cursor = connection.cursor()\n",
    "    cursor.execute(\"\"\"\n",
    "        SELECT count(*) FROM views;\n",
    "    \"\"\")\n",
    "    print(cursor.fetchall())\n",
    "    \n",
    "```\n",
    "\n",
    "Output - 11314205\n",
    "    "
   ]
  },
  {
   "cell_type": "code",
   "execution_count": 73,
   "id": "bd551492",
   "metadata": {},
   "outputs": [
    {
     "name": "stdout",
     "output_type": "stream",
     "text": [
      "Median - 0.0627140998840332\n",
      "Average - 0.0627140998840332\n",
      "Summary - 0.0627140998840332\n"
     ]
    }
   ],
   "source": [
    "# тестируем чтение данных 1_000\n",
    "\n",
    "with TimerCode() as timer:\n",
    "    with vertica_python.connect(**connection_info) as connection:\n",
    "        cursor = connection.cursor()\n",
    "        timer.setup_start_time()\n",
    "        cursor.execute(\"\"\"SELECT count(*) FROM views LIMIT 1000;\"\"\")\n",
    "        timer.checkpoint()"
   ]
  },
  {
   "cell_type": "code",
   "execution_count": 74,
   "id": "71f8d9bd",
   "metadata": {},
   "outputs": [
    {
     "name": "stdout",
     "output_type": "stream",
     "text": [
      "Median - 0.2651090621948242\n",
      "Average - 0.2651090621948242\n",
      "Summary - 0.2651090621948242\n"
     ]
    }
   ],
   "source": [
    "# тестируем чтение данных 10_000\n",
    "\n",
    "with TimerCode() as timer:\n",
    "    with vertica_python.connect(**connection_info) as connection:\n",
    "        cursor = connection.cursor()\n",
    "        timer.setup_start_time()\n",
    "        cursor.execute(\"\"\"SELECT count(*) FROM views LIMIT 10000;\"\"\")\n",
    "        timer.checkpoint()"
   ]
  },
  {
   "cell_type": "code",
   "execution_count": 75,
   "id": "c4a44b53",
   "metadata": {},
   "outputs": [
    {
     "name": "stdout",
     "output_type": "stream",
     "text": [
      "Median - 0.12449908256530762\n",
      "Average - 0.12449908256530762\n",
      "Summary - 0.12449908256530762\n"
     ]
    }
   ],
   "source": [
    "# тестируем чтение данных 100_000\n",
    "\n",
    "with TimerCode() as timer:\n",
    "    with vertica_python.connect(**connection_info) as connection:\n",
    "        cursor = connection.cursor()\n",
    "        timer.setup_start_time()\n",
    "        cursor.execute(\"\"\"SELECT count(*) FROM views LIMIT 10000;\"\"\")\n",
    "        timer.checkpoint()"
   ]
  },
  {
   "cell_type": "code",
   "execution_count": 78,
   "id": "9a88fbde",
   "metadata": {},
   "outputs": [
    {
     "name": "stdout",
     "output_type": "stream",
     "text": [
      "Median - 0.08140301704406738\n",
      "Average - 0.08140301704406738\n",
      "Summary - 0.08140301704406738\n"
     ]
    }
   ],
   "source": [
    "# тестируем чтение данных 1_000_000\n",
    "\n",
    "with TimerCode() as timer:\n",
    "    with vertica_python.connect(**connection_info) as connection:\n",
    "        cursor = connection.cursor()\n",
    "        timer.setup_start_time()\n",
    "        cursor.execute(\"\"\"SELECT count(*) FROM views LIMIT 1000000;\"\"\")\n",
    "        timer.checkpoint()"
   ]
  },
  {
   "cell_type": "code",
   "execution_count": 79,
   "id": "d169bcd4",
   "metadata": {},
   "outputs": [
    {
     "name": "stdout",
     "output_type": "stream",
     "text": [
      "Median - 0.09993600845336914\n",
      "Average - 0.09993600845336914\n",
      "Summary - 0.09993600845336914\n"
     ]
    }
   ],
   "source": [
    "# тестируем чтение данных 2_000_000\n",
    "\n",
    "with TimerCode() as timer:\n",
    "    with vertica_python.connect(**connection_info) as connection:\n",
    "        cursor = connection.cursor()\n",
    "        timer.setup_start_time()\n",
    "        cursor.execute(\"\"\"SELECT count(*) FROM views LIMIT 2000000;\"\"\")\n",
    "        timer.checkpoint()"
   ]
  },
  {
   "cell_type": "code",
   "execution_count": 80,
   "id": "862b7d2c",
   "metadata": {},
   "outputs": [
    {
     "name": "stdout",
     "output_type": "stream",
     "text": [
      "Median - 0.09772968292236328\n",
      "Average - 0.09772968292236328\n",
      "Summary - 0.09772968292236328\n"
     ]
    }
   ],
   "source": [
    "# тестируем чтение данных 5_000_000\n",
    "\n",
    "with TimerCode() as timer:\n",
    "    with vertica_python.connect(**connection_info) as connection:\n",
    "        cursor = connection.cursor()\n",
    "        timer.setup_start_time()\n",
    "        cursor.execute(\"\"\"SELECT count(*) FROM views LIMIT 5000000;\"\"\")\n",
    "        timer.checkpoint()"
   ]
  },
  {
   "cell_type": "code",
   "execution_count": 81,
   "id": "6a55dc2d",
   "metadata": {},
   "outputs": [
    {
     "name": "stdout",
     "output_type": "stream",
     "text": [
      "Median - 0.1652541160583496\n",
      "Average - 0.1652541160583496\n",
      "Summary - 0.1652541160583496\n"
     ]
    }
   ],
   "source": [
    "# тестируем чтение данных 10_000_000\n",
    "\n",
    "with TimerCode() as timer:\n",
    "    with vertica_python.connect(**connection_info) as connection:\n",
    "        cursor = connection.cursor()\n",
    "        timer.setup_start_time()\n",
    "        cursor.execute(\"\"\"SELECT count(*) FROM views LIMIT 10000000;\"\"\")\n",
    "        timer.checkpoint()"
   ]
  },
  {
   "cell_type": "markdown",
   "id": "7596410e",
   "metadata": {},
   "source": [
    "## Тестируем чтение + вычисление длины строки"
   ]
  },
  {
   "cell_type": "code",
   "execution_count": 95,
   "id": "d3ad7a32",
   "metadata": {},
   "outputs": [
    {
     "name": "stdout",
     "output_type": "stream",
     "text": [
      "Median - 0.037361860275268555\n",
      "Average - 0.037361860275268555\n",
      "Summary - 0.037361860275268555\n"
     ]
    }
   ],
   "source": [
    "# тестируем чтение данных 1_000\n",
    "\n",
    "with TimerCode() as timer:\n",
    "    with vertica_python.connect(**connection_info) as connection:\n",
    "        cursor = connection.cursor()\n",
    "        timer.setup_start_time()\n",
    "        cursor.execute(\"\"\"SELECT LENGTH(movie_id) FROM views LIMIT 1000;\"\"\")\n",
    "        timer.checkpoint()"
   ]
  },
  {
   "cell_type": "code",
   "execution_count": 85,
   "id": "f31088fb",
   "metadata": {},
   "outputs": [
    {
     "name": "stdout",
     "output_type": "stream",
     "text": [
      "Median - 0.13355493545532227\n",
      "Average - 0.13355493545532227\n",
      "Summary - 0.13355493545532227\n"
     ]
    }
   ],
   "source": [
    "# тестируем чтение данных 100_000\n",
    "\n",
    "with TimerCode() as timer:\n",
    "    with vertica_python.connect(**connection_info) as connection:\n",
    "        cursor = connection.cursor()\n",
    "        timer.setup_start_time()\n",
    "        cursor.execute(\"\"\"SELECT LENGTH(movie_id) FROM views LIMIT 100000;\"\"\")\n",
    "        timer.checkpoint()"
   ]
  },
  {
   "cell_type": "code",
   "execution_count": 93,
   "id": "b0184bbb",
   "metadata": {},
   "outputs": [
    {
     "name": "stdout",
     "output_type": "stream",
     "text": [
      "Median - 0.18950200080871582\n",
      "Average - 0.18950200080871582\n",
      "Summary - 0.18950200080871582\n"
     ]
    }
   ],
   "source": [
    "# тестируем чтение данных без лимита\n",
    "\n",
    "with TimerCode() as timer:\n",
    "    with vertica_python.connect(**connection_info) as connection:\n",
    "        cursor = connection.cursor()\n",
    "        timer.setup_start_time()\n",
    "        cursor.execute(\"\"\"SELECT LENGTH(movie_id) FROM views;\"\"\")\n",
    "        timer.checkpoint()"
   ]
  },
  {
   "cell_type": "markdown",
   "id": "7ab46b9f",
   "metadata": {},
   "source": [
    "## Аналитические задачи"
   ]
  },
  {
   "cell_type": "code",
   "execution_count": 131,
   "id": "0feef049",
   "metadata": {},
   "outputs": [
    {
     "name": "stdout",
     "output_type": "stream",
     "text": [
      "Median - 0.13187384605407715\n",
      "Average - 0.13187384605407715\n",
      "Summary - 0.13187384605407715\n"
     ]
    }
   ],
   "source": [
    "# Найдем максимальное значение среди viewed_frame (movie_timestamp)\n",
    "\n",
    "with TimerCode() as timer:\n",
    "    with vertica_python.connect(**connection_info) as connection:\n",
    "        cursor = connection.cursor()\n",
    "        timer.setup_start_time()\n",
    "        result = cursor.execute(\"\"\"SELECT max(viewed_frame) FROM views;\"\"\")\n",
    "        timer.checkpoint()"
   ]
  },
  {
   "cell_type": "code",
   "execution_count": 130,
   "id": "49349c93",
   "metadata": {},
   "outputs": [
    {
     "name": "stdout",
     "output_type": "stream",
     "text": [
      "Median - 1.0892741680145264\n",
      "Average - 1.0892741680145264\n",
      "Summary - 1.0892741680145264\n"
     ]
    }
   ],
   "source": [
    "# Найдем медианного значения среди viewed_frame (movie_timestamp)\n",
    "\n",
    "with TimerCode() as timer:\n",
    "    with vertica_python.connect(**connection_info) as connection:\n",
    "        cursor = connection.cursor()\n",
    "        timer.setup_start_time()\n",
    "        result = cursor.execute(\"\"\"SELECT median(viewed_frame) OVER() FROM views;\"\"\")\n",
    "        timer.checkpoint()"
   ]
  },
  {
   "cell_type": "code",
   "execution_count": 132,
   "id": "6c678cf3",
   "metadata": {},
   "outputs": [
    {
     "name": "stdout",
     "output_type": "stream",
     "text": [
      "Median - 0.15050792694091797\n",
      "Average - 0.15050792694091797\n",
      "Summary - 0.15050792694091797\n"
     ]
    }
   ],
   "source": [
    "# Найдем суммы значений по столбцу viewed_frame\n",
    "\n",
    "with TimerCode() as timer:\n",
    "    with vertica_python.connect(**connection_info) as connection:\n",
    "        cursor = connection.cursor()\n",
    "        timer.setup_start_time()\n",
    "        result = cursor.execute(\"\"\"SELECT Sum(viewed_frame) OVER() FROM views;\"\"\")\n",
    "        timer.checkpoint()"
   ]
  },
  {
   "cell_type": "markdown",
   "id": "d8cdf431",
   "metadata": {},
   "source": [
    "## Тестирование обработки данных под нагрузкой"
   ]
  },
  {
   "cell_type": "code",
   "execution_count": null,
   "id": "23174217",
   "metadata": {},
   "outputs": [],
   "source": [
    "def insert_data():\n",
    "    \"\"\"Функция занимается постоянной вставкой данных в хранилище.\"\"\"\n",
    "    with vertica_python.connect(**connection_info) as connection:\n",
    "        for _ in range(100):\n",
    "            chunk = generate_progress_data(5_000_000)\n",
    "            cursor = connection.cursor()\n",
    "            cursor.executemany(\"INSERT INTO views(user_id, movie_id, viewed_frame) VALUES (%s, %s, %s)\",\n",
    "            chunk)\n",
    "            print('Данные успено добавлены!')\n",
    "\n",
    "def select_data():\n",
    "    \"\"\"Функция занимается постоянным вычитыванием данных из хранилища.\"\"\"\n",
    "    with TimerCode() as timer:\n",
    "        with vertica_python.connect(**connection_info) as connection:\n",
    "            cursor = connection.cursor()\n",
    "            timer.setup_start_time()\n",
    "            cursor.execute(\"\"\"SELECT count(*) FROM views LIMIT 10000;\"\"\")\n",
    "            timer.checkpoint()\n",
    "            \n",
    "            \n",
    "def run():\n",
    "    insert_data()\n",
    "    select_data()\n",
    "    \n",
    "run()"
   ]
  }
 ],
 "metadata": {
  "kernelspec": {
   "display_name": "Python 3 (ipykernel)",
   "language": "python",
   "name": "python3"
  },
  "language_info": {
   "codemirror_mode": {
    "name": "ipython",
    "version": 3
   },
   "file_extension": ".py",
   "mimetype": "text/x-python",
   "name": "python",
   "nbconvert_exporter": "python",
   "pygments_lexer": "ipython3",
   "version": "3.10.0"
  }
 },
 "nbformat": 4,
 "nbformat_minor": 5
}
