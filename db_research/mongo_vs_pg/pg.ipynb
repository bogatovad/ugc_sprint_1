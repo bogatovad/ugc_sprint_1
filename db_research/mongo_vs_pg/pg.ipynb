{
 "cells": [
  {
   "cell_type": "markdown",
   "source": [
    "# Исследование Postgres"
   ],
   "metadata": {
    "collapsed": false
   }
  },
  {
   "cell_type": "code",
   "execution_count": 126,
   "outputs": [],
   "source": [
    "import time\n",
    "import statistics\n",
    "\n",
    "class TimerCode:\n",
    "    def __init__(self):\n",
    "        self.start = time.time()\n",
    "        self.durations = []\n",
    "\n",
    "    def setup_start_time(self):\n",
    "        self.start = time.time()\n",
    "\n",
    "    def checkpoint(self):\n",
    "        end_time = time.time()\n",
    "        self.durations.append(end_time - self.start)\n",
    "        self.start = end_time\n",
    "\n",
    "    def get_current_stat(self):\n",
    "        print(f\"Median - {statistics.median(self.durations)}\")\n",
    "        avg = statistics.mean(self.durations)\n",
    "        print(f\"Average - {avg}\")\n",
    "        print(f\"Summary - {sum(self.durations)}\")\n",
    "\n",
    "    def __enter__(self):\n",
    "        return self\n",
    "\n",
    "    def __exit__(self, type, value, traceback):\n",
    "        self.get_current_stat()"
   ],
   "metadata": {
    "collapsed": false,
    "ExecuteTime": {
     "start_time": "2023-06-04T14:10:50.507712Z",
     "end_time": "2023-06-04T14:10:50.515883Z"
    }
   }
  },
  {
   "cell_type": "code",
   "execution_count": 127,
   "outputs": [],
   "source": [
    "import psycopg2\n",
    "import random\n",
    "\n",
    "db_params = {\n",
    "    'host': 'localhost',\n",
    "    'port': 5432,\n",
    "    'dbname': 'db',\n",
    "    'user': 'user',\n",
    "    'password': 'password'\n",
    "}\n",
    "\n",
    "conn = psycopg2.connect(**db_params)\n",
    "cur = conn.cursor()\n",
    "\n",
    "cur.execute(\"DROP TABLE IF EXISTS users CASCADE;\")\n",
    "cur.execute(\"DROP TABLE IF EXISTS movies CASCADE;\")\n",
    "cur.execute(\"DROP TABLE IF EXISTS bookmarks CASCADE;\")\n",
    "cur.execute(\"\"\"\n",
    "    CREATE TABLE IF NOT EXISTS users (\n",
    "        id int PRIMARY KEY,\n",
    "        name VARCHAR(255) NOT NULL\n",
    "    );\n",
    "\"\"\")\n",
    "\n",
    "cur.execute(\"\"\"\n",
    "    CREATE TABLE IF NOT EXISTS movies (\n",
    "        id int PRIMARY KEY,\n",
    "        title VARCHAR(255) NOT NULL\n",
    "    );\n",
    "\"\"\")\n",
    "\n",
    "cur.execute(\"\"\"\n",
    "    CREATE TABLE IF NOT EXISTS bookmarks (\n",
    "        user_id int REFERENCES users(id),\n",
    "        movie_id int REFERENCES movies(id),\n",
    "        PRIMARY KEY (user_id, movie_id)\n",
    "    );\n",
    "\"\"\")\n",
    "\n",
    "cur.execute(\"TRUNCATE TABLE users CASCADE;\")\n",
    "cur.execute(\"TRUNCATE TABLE movies CASCADE;\")\n",
    "cur.execute(\"TRUNCATE TABLE bookmarks CASCADE;\")\n",
    "\n"
   ],
   "metadata": {
    "collapsed": false,
    "ExecuteTime": {
     "start_time": "2023-06-04T14:10:50.521680Z",
     "end_time": "2023-06-04T14:10:50.596343Z"
    }
   }
  },
  {
   "cell_type": "code",
   "execution_count": 128,
   "outputs": [],
   "source": [
    "# Generate some fake user and movie ids\n",
    "USERS_NUM = 1_000\n",
    "MOVIES_NUM = 3_000\n",
    "\n",
    "BOOKMARKS_PER_USER_LIST = [1, 2, 5, 10, 100, 200, 500, 1000]\n",
    "\n",
    "user_ids = [i for i in range(USERS_NUM)]\n",
    "movie_ids = [i for i in range(MOVIES_NUM)]\n"
   ],
   "metadata": {
    "collapsed": false,
    "ExecuteTime": {
     "start_time": "2023-06-04T14:10:50.598803Z",
     "end_time": "2023-06-04T14:10:50.602094Z"
    }
   }
  },
  {
   "cell_type": "code",
   "execution_count": 129,
   "outputs": [
    {
     "name": "stdout",
     "output_type": "stream",
     "text": [
      "Время загрузки пользователей\n",
      "Median - 0.8296492099761963\n",
      "Average - 0.8296492099761963\n",
      "Summary - 0.8296492099761963\n"
     ]
    }
   ],
   "source": [
    "\n",
    "with TimerCode() as timer:\n",
    "    print('Время загрузки пользователей')\n",
    "    timer.setup_start_time()\n",
    "    for user_id in user_ids:\n",
    "        cur.execute(\"INSERT INTO users (id, name) VALUES (%s, %s)\", (user_id, user_id))\n",
    "    timer.checkpoint()\n"
   ],
   "metadata": {
    "collapsed": false,
    "ExecuteTime": {
     "start_time": "2023-06-04T14:10:50.606105Z",
     "end_time": "2023-06-04T14:10:51.438257Z"
    }
   }
  },
  {
   "cell_type": "code",
   "execution_count": 130,
   "outputs": [
    {
     "name": "stdout",
     "output_type": "stream",
     "text": [
      "Время загрузки фильмов\n",
      "Median - 2.3778040409088135\n",
      "Average - 2.3778040409088135\n",
      "Summary - 2.3778040409088135\n"
     ]
    }
   ],
   "source": [
    "with TimerCode() as timer:\n",
    "    print('Время загрузки фильмов')\n",
    "    timer.setup_start_time()\n",
    "    for movie_id in movie_ids:\n",
    "        cur.execute(\"INSERT INTO movies (id, title) VALUES (%s, %s)\", (movie_id, movie_id))\n",
    "    timer.checkpoint()\n",
    "\n"
   ],
   "metadata": {
    "collapsed": false,
    "ExecuteTime": {
     "start_time": "2023-06-04T14:10:51.441785Z",
     "end_time": "2023-06-04T14:10:53.822747Z"
    }
   }
  },
  {
   "cell_type": "code",
   "execution_count": 131,
   "outputs": [
    {
     "name": "stdout",
     "output_type": "stream",
     "text": [
      "Время загрузки закладок\n",
      "Median - 0.06917023658752441\n",
      "Average - 0.06917023658752441\n",
      "Summary - 0.06917023658752441\n",
      "Время чтения закладок\n",
      "Median - 0.0017609596252441406\n",
      "Average - 0.0017609596252441406\n",
      "Summary - 0.0017609596252441406\n",
      "Всего bookmarks: 1000\n",
      "Всего users: 1000\n",
      "Всего movies: 3000\n",
      "================================================== \n",
      "\n",
      "Время загрузки закладок\n",
      "Median - 0.08500909805297852\n",
      "Average - 0.08500909805297852\n",
      "Summary - 0.08500909805297852\n",
      "Время чтения закладок\n",
      "Median - 0.0025489330291748047\n",
      "Average - 0.0025489330291748047\n",
      "Summary - 0.0025489330291748047\n",
      "Всего bookmarks: 3000\n",
      "Всего users: 1000\n",
      "Всего movies: 3000\n",
      "================================================== \n",
      "\n",
      "Время загрузки закладок\n",
      "Median - 0.20258712768554688\n",
      "Average - 0.20258712768554688\n",
      "Summary - 0.20258712768554688\n",
      "Время чтения закладок\n",
      "Median - 0.005388736724853516\n",
      "Average - 0.005388736724853516\n",
      "Summary - 0.005388736724853516\n",
      "Всего bookmarks: 7996\n",
      "Всего users: 1000\n",
      "Всего movies: 3000\n",
      "================================================== \n",
      "\n",
      "Время загрузки закладок\n",
      "Median - 0.39205193519592285\n",
      "Average - 0.39205193519592285\n",
      "Summary - 0.39205193519592285\n",
      "Время чтения закладок\n",
      "Median - 0.017248153686523438\n",
      "Average - 0.017248153686523438\n",
      "Summary - 0.017248153686523438\n",
      "Всего bookmarks: 17978\n",
      "Всего users: 1000\n",
      "Всего movies: 3000\n",
      "================================================== \n",
      "\n",
      "Время загрузки закладок\n",
      "Median - 3.7370009422302246\n",
      "Average - 3.7370009422302246\n",
      "Summary - 3.7370009422302246\n",
      "Время чтения закладок\n",
      "Median - 0.0408627986907959\n",
      "Average - 0.0408627986907959\n",
      "Summary - 0.0408627986907959\n",
      "Всего bookmarks: 117386\n",
      "Всего users: 1000\n",
      "Всего movies: 3000\n",
      "================================================== \n",
      "\n",
      "Время загрузки закладок\n",
      "Median - 6.983916997909546\n",
      "Average - 6.983916997909546\n",
      "Summary - 6.983916997909546\n",
      "Время чтения закладок\n",
      "Median - 0.1429760456085205\n",
      "Average - 0.1429760456085205\n",
      "Summary - 0.1429760456085205\n",
      "Всего bookmarks: 309499\n",
      "Всего users: 1000\n",
      "Всего movies: 3000\n",
      "================================================== \n",
      "\n",
      "Время загрузки закладок\n",
      "Median - 17.81920886039734\n",
      "Average - 17.81920886039734\n",
      "Summary - 17.81920886039734\n",
      "Время чтения закладок\n",
      "Median - 0.516895055770874\n",
      "Average - 0.516895055770874\n",
      "Summary - 0.516895055770874\n",
      "Всего bookmarks: 757859\n",
      "Всего users: 1000\n",
      "Всего movies: 3000\n",
      "================================================== \n",
      "\n",
      "Время загрузки закладок\n",
      "Median - 30.44110918045044\n",
      "Average - 30.44110918045044\n",
      "Summary - 30.44110918045044\n",
      "Время чтения закладок\n",
      "Median - 0.6115717887878418\n",
      "Average - 0.6115717887878418\n",
      "Summary - 0.6115717887878418\n",
      "Всего bookmarks: 1505107\n",
      "Всего users: 1000\n",
      "Всего movies: 3000\n",
      "================================================== \n",
      "\n"
     ]
    }
   ],
   "source": [
    "from psycopg2.extras import execute_values\n",
    "\n",
    "for bookmarks_per_user in BOOKMARKS_PER_USER_LIST:\n",
    "    with TimerCode() as timer:\n",
    "        print('Время загрузки закладок')\n",
    "        timer.setup_start_time()\n",
    "        bookmark_tuples = [\n",
    "        (user_id, movie_id) for user_id in user_ids\n",
    "        for movie_id in random.sample(movie_ids, bookmarks_per_user)\n",
    "    ]\n",
    "        execute_values(cur, \"INSERT INTO bookmarks (user_id, movie_id) VALUES %s ON CONFLICT (user_id, movie_id) DO NOTHING\", bookmark_tuples)\n",
    "        timer.checkpoint()\n",
    "\n",
    "    with TimerCode() as timer:\n",
    "        print('Время чтения закладок')\n",
    "        timer.setup_start_time()\n",
    "        cur.execute(\"SELECT * FROM bookmarks;\")\n",
    "        timer.checkpoint()\n",
    "\n",
    "    for item in ('bookmarks', 'users', 'movies'):\n",
    "        cur.execute(f\"SELECT COUNT(*) FROM {item};\")\n",
    "        row = cur.fetchone()\n",
    "        count = row[0]\n",
    "        print(f'Всего {item}: {count}')\n",
    "    print('=' * 50, '\\n')\n",
    "\n",
    "conn.commit()\n",
    "cur.close()\n",
    "conn.close()\n",
    "\n",
    "\n"
   ],
   "metadata": {
    "collapsed": false,
    "ExecuteTime": {
     "start_time": "2023-06-04T14:10:53.853534Z",
     "end_time": "2023-06-04T14:11:55.079337Z"
    }
   }
  }
 ],
 "metadata": {
  "kernelspec": {
   "display_name": "Python 3",
   "language": "python",
   "name": "python3"
  },
  "language_info": {
   "codemirror_mode": {
    "name": "ipython",
    "version": 2
   },
   "file_extension": ".py",
   "mimetype": "text/x-python",
   "name": "python",
   "nbconvert_exporter": "python",
   "pygments_lexer": "ipython2",
   "version": "2.7.6"
  }
 },
 "nbformat": 4,
 "nbformat_minor": 0
}
