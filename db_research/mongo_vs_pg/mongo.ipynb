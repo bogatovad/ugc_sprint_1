{
 "cells": [
  {
   "cell_type": "code",
   "execution_count": 39,
   "outputs": [],
   "source": [
    "# Подготовка скриптов для загрузки данных"
   ],
   "metadata": {
    "collapsed": false,
    "ExecuteTime": {
     "start_time": "2023-05-29T20:23:54.688153Z",
     "end_time": "2023-05-29T20:23:54.688288Z"
    }
   }
  },
  {
   "cell_type": "code",
   "execution_count": 1,
   "outputs": [],
   "source": [
    "import time\n",
    "import statistics\n",
    "import uuid\n",
    "import random\n",
    "from bson import Binary\n",
    "\n",
    "USERS_NUM = 500_000\n",
    "MOVIES_NUM = 30_000\n",
    "\n",
    "BOOKMARKS_PER_USER = 40\n",
    "\n",
    "MAX_RATING = 10\n",
    "MIN_RATING = 0\n",
    "\n",
    "def get_uuid():\n",
    "    return Binary.from_uuid(uuid.uuid4())\n",
    "\n",
    "user_ids = [get_uuid() for _ in range(USERS_NUM)]\n",
    "movie_ids = [get_uuid() for _ in range(MOVIES_NUM)]\n",
    "\n",
    "user_bookmarks = {\n",
    "            '_id': random.choice(user_ids),\n",
    "            'bookmarks': [\n",
    "                movie_id for movie_id\n",
    "                in random.sample(movie_ids, BOOKMARKS_PER_USER)\n",
    "            ]\n",
    "    }\n",
    "\n",
    "users_bookmarks = [\n",
    "    user_bookmarks for _ in range(10)\n",
    "]\n",
    "print(users_bookmarks, len(user_ids))\n"
   ],
   "metadata": {
    "collapsed": false,
    "ExecuteTime": {
     "start_time": "2023-05-30T16:51:51.504888Z",
     "end_time": "2023-05-30T16:52:01.536003Z"
    }
   }
  },
  {
   "cell_type": "code",
   "execution_count": 2,
   "outputs": [],
   "source": [
    "class TimerCode:\n",
    "    def __init__(self):\n",
    "        self.start = time.time()\n",
    "        self.durations = []\n",
    "\n",
    "    def setup_start_time(self):\n",
    "        self.start = time.time()\n",
    "\n",
    "    def checkpoint(self):\n",
    "        end_time = time.time()\n",
    "        self.durations.append(end_time - self.start)\n",
    "        self.start = end_time\n",
    "\n",
    "    def get_current_stat(self):\n",
    "        print(f\"Median - {statistics.median(self.durations)}\")\n",
    "        avg = statistics.mean(self.durations)\n",
    "        print(f\"Average - {avg}\")\n",
    "        print(f\"Summary - {sum(self.durations)}\")\n",
    "\n",
    "    def __enter__(self):\n",
    "        return self\n",
    "\n",
    "    def __exit__(self, type, value, traceback):\n",
    "        self.get_current_stat()\n"
   ],
   "metadata": {
    "collapsed": false,
    "ExecuteTime": {
     "start_time": "2023-05-30T16:52:01.542512Z",
     "end_time": "2023-05-30T16:52:01.547295Z"
    }
   }
  },
  {
   "cell_type": "markdown",
   "source": [
    "# Исследование Mongo"
   ],
   "metadata": {
    "collapsed": false
   }
  },
  {
   "cell_type": "code",
   "execution_count": 4,
   "outputs": [
    {
     "name": "stdout",
     "output_type": "stream",
     "text": [
      "Test on 10 user's bookmarks\n",
      "\n",
      "\n",
      "Test writing time\n",
      "Average - 0.0184786319732666\n",
      "\n",
      "Test reading time\n",
      "Average - 2.471605936686198e-05\n",
      "\n",
      " ==================================================\n",
      "Test on 100 user's bookmarks\n",
      "\n",
      "\n",
      "Test writing time\n",
      "Average - 0.023689746856689453\n",
      "\n",
      "Test reading time\n",
      "Average - 1.9709269205729168e-05\n",
      "\n",
      " ==================================================\n",
      "Test on 200 user's bookmarks\n",
      "\n",
      "\n",
      "Test writing time\n",
      "Average - 0.024291038513183594\n",
      "\n",
      "Test reading time\n",
      "Average - 2.392133076985677e-05\n",
      "\n",
      " ==================================================\n",
      "Test on 500 user's bookmarks\n",
      "\n",
      "\n",
      "Test writing time\n",
      "Average - 0.033284266789754234\n",
      "\n",
      "Test reading time\n",
      "Average - 2.185503641764323e-05\n",
      "\n",
      " ==================================================\n",
      "Test on 1000 user's bookmarks\n",
      "\n",
      "\n",
      "Test writing time\n",
      "Average - 0.048758347829182945\n",
      "\n",
      "Test reading time\n",
      "Average - 2.0742416381835938e-05\n",
      "\n",
      " ==================================================\n",
      "Test on 2000 user's bookmarks\n",
      "\n",
      "\n",
      "Test writing time\n",
      "Average - 0.07934776941935222\n",
      "\n",
      "Test reading time\n",
      "Average - 2.7497609456380207e-05\n",
      "\n",
      " ==================================================\n",
      "Test on 5000 user's bookmarks\n",
      "\n",
      "\n",
      "Test writing time\n",
      "Average - 0.18643657366434732\n",
      "\n",
      "Test reading time\n",
      "Average - 2.6067097981770832e-05\n",
      "\n",
      " ==================================================\n",
      "Test on 10000 user's bookmarks\n",
      "\n",
      "\n",
      "Test writing time\n",
      "Average - 0.296370267868042\n",
      "\n",
      "Test reading time\n",
      "Average - 2.106030782063802e-05\n",
      "\n",
      " ==================================================\n",
      "Test on 100000 user's bookmarks\n",
      "\n",
      "\n",
      "Test writing time\n",
      "Average - 3.075646162033081\n",
      "\n",
      "Test reading time\n",
      "Average - 6.000200907389323e-05\n",
      "\n",
      " ==================================================\n",
      "Test on 200000 user's bookmarks\n",
      "\n",
      "\n",
      "Test writing time\n",
      "Average - 5.614844083786011\n",
      "\n",
      "Test reading time\n",
      "Average - 2.574920654296875e-05\n",
      "\n",
      " ==================================================\n",
      "Test on 500000 user's bookmarks\n",
      "\n",
      "\n",
      "Test writing time\n",
      "Average - 13.98449993133545\n",
      "\n",
      "Test reading time\n",
      "Average - 2.3444493611653645e-05\n",
      "\n",
      " ==================================================\n",
      "Test on 1000000 user's bookmarks\n",
      "\n",
      "\n",
      "Test writing time\n",
      "Average - 23.305188099543255\n",
      "\n",
      "Test reading time\n",
      "Average - 3.0358632405598957e-05\n",
      "\n",
      " ==================================================\n"
     ]
    }
   ],
   "source": [
    "import pymongo\n",
    "\n",
    "client = pymongo.MongoClient(\"mongodb://localhost:27017/\")\n",
    "db = client[\"mydatabase\"]\n",
    "collection = db[\"mycollection\"]\n",
    "\n",
    "\n",
    "with TimerCode() as timer:\n",
    "    timer.setup_start_time()\n",
    "    collection.insert_many(user_bookmarks)\n",
    "    timer.checkpoint()\n",
    "\n",
    "with TimerCode() as timer:\n",
    "    timer.setup_start_time()\n",
    "    documents = collection.find()\n",
    "    timer.checkpoint()\n"
   ],
   "metadata": {
    "collapsed": false,
    "ExecuteTime": {
     "start_time": "2023-05-30T16:53:16.604389Z",
     "end_time": "2023-05-30T16:55:55.055369Z"
    }
   }
  },
  {
   "cell_type": "code",
   "execution_count": null,
   "outputs": [],
   "source": [],
   "metadata": {
    "collapsed": false,
    "ExecuteTime": {
     "start_time": "2023-05-29T20:25:03.905967Z",
     "end_time": "2023-05-29T20:25:03.910569Z"
    }
   }
  }
 ],
 "metadata": {
  "kernelspec": {
   "display_name": "Python 3",
   "language": "python",
   "name": "python3"
  },
  "language_info": {
   "codemirror_mode": {
    "name": "ipython",
    "version": 2
   },
   "file_extension": ".py",
   "mimetype": "text/x-python",
   "name": "python",
   "nbconvert_exporter": "python",
   "pygments_lexer": "ipython2",
   "version": "2.7.6"
  }
 },
 "nbformat": 4,
 "nbformat_minor": 0
}
