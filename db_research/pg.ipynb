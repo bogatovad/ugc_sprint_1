{
 "cells": [
  {
   "cell_type": "markdown",
   "source": [
    "# Исследование Postgres"
   ],
   "metadata": {
    "collapsed": false
   }
  },
  {
   "cell_type": "code",
   "execution_count": 23,
   "outputs": [],
   "source": [
    "import time\n",
    "import statistics\n",
    "\n",
    "class TimerCode:\n",
    "    def __init__(self):\n",
    "        self.start = time.time()\n",
    "        self.durations = []\n",
    "\n",
    "    def setup_start_time(self):\n",
    "        self.start = time.time()\n",
    "\n",
    "    def checkpoint(self):\n",
    "        end_time = time.time()\n",
    "        self.durations.append(end_time - self.start)\n",
    "        self.start = end_time\n",
    "\n",
    "    def get_current_stat(self):\n",
    "        print(f\"Median - {statistics.median(self.durations)}\")\n",
    "        avg = statistics.mean(self.durations)\n",
    "        print(f\"Average - {avg}\")\n",
    "        print(f\"Summary - {sum(self.durations)}\")\n",
    "\n",
    "    def __enter__(self):\n",
    "        return self\n",
    "\n",
    "    def __exit__(self, type, value, traceback):\n",
    "        self.get_current_stat()"
   ],
   "metadata": {
    "collapsed": false,
    "ExecuteTime": {
     "start_time": "2023-06-03T10:32:01.682123Z",
     "end_time": "2023-06-03T10:32:01.700015Z"
    }
   }
  },
  {
   "cell_type": "code",
   "execution_count": 24,
   "outputs": [],
   "source": [
    "import psycopg2\n",
    "import uuid\n",
    "import random\n",
    "\n",
    "db_params = {\n",
    "    'host': 'localhost',\n",
    "    'port': 5432,\n",
    "    'dbname': 'db',\n",
    "    'user': 'user',\n",
    "    'password': 'password'\n",
    "}\n",
    "\n",
    "conn = psycopg2.connect(**db_params)\n",
    "cur = conn.cursor()\n",
    "\n",
    "cur.execute(\"DROP TABLE IF EXISTS users CASCADE;\")\n",
    "cur.execute(\"DROP TABLE IF EXISTS movies CASCADE;\")\n",
    "cur.execute(\"DROP TABLE IF EXISTS bookmarks CASCADE;\")\n",
    "cur.execute(\"\"\"\n",
    "    CREATE TABLE IF NOT EXISTS users (\n",
    "        id int PRIMARY KEY,\n",
    "        name VARCHAR(255) NOT NULL\n",
    "    );\n",
    "\"\"\")\n",
    "\n",
    "cur.execute(\"\"\"\n",
    "    CREATE TABLE IF NOT EXISTS movies (\n",
    "        id int PRIMARY KEY,\n",
    "        title VARCHAR(255) NOT NULL\n",
    "    );\n",
    "\"\"\")\n",
    "\n",
    "cur.execute(\"\"\"\n",
    "    CREATE TABLE IF NOT EXISTS bookmarks (\n",
    "        user_id int REFERENCES users(id),\n",
    "        movie_id int REFERENCES movies(id),\n",
    "        PRIMARY KEY (user_id, movie_id)\n",
    "    );\n",
    "\"\"\")\n",
    "\n",
    "cur.execute(\"TRUNCATE TABLE users CASCADE;\")\n",
    "cur.execute(\"TRUNCATE TABLE movies CASCADE;\")\n",
    "cur.execute(\"TRUNCATE TABLE bookmarks CASCADE;\")\n",
    "\n",
    "\n",
    "# Generate some fake user and movie ids\n",
    "USERS_NUM = 5_000\n",
    "MOVIES_NUM = 3_000\n",
    "\n",
    "BOOKMARKS_PER_USER = 40\n",
    "\n",
    "user_ids = [i for i in range(USERS_NUM)]\n",
    "movie_ids = [i for i in range(MOVIES_NUM)]\n"
   ],
   "metadata": {
    "collapsed": false,
    "ExecuteTime": {
     "start_time": "2023-06-03T10:32:01.697551Z",
     "end_time": "2023-06-03T10:32:01.772694Z"
    }
   }
  },
  {
   "cell_type": "code",
   "execution_count": 25,
   "outputs": [
    {
     "name": "stdout",
     "output_type": "stream",
     "text": [
      "Время загрузки пользователей\n",
      "Median - 4.47627592086792\n",
      "Average - 4.47627592086792\n",
      "Summary - 4.47627592086792\n"
     ]
    }
   ],
   "source": [
    "\n",
    "with TimerCode() as timer:\n",
    "    print('Время загрузки пользователей')\n",
    "    timer.setup_start_time()\n",
    "    for user_id in user_ids:\n",
    "        cur.execute(\"INSERT INTO users (id, name) VALUES (%s, %s)\", (user_id, user_id))\n",
    "    timer.checkpoint()\n"
   ],
   "metadata": {
    "collapsed": false,
    "ExecuteTime": {
     "start_time": "2023-06-03T10:32:01.775641Z",
     "end_time": "2023-06-03T10:32:06.260142Z"
    }
   }
  },
  {
   "cell_type": "code",
   "execution_count": 26,
   "outputs": [
    {
     "name": "stdout",
     "output_type": "stream",
     "text": [
      "Время загрузки фильмов\n",
      "Median - 2.495952844619751\n",
      "Average - 2.495952844619751\n",
      "Summary - 2.495952844619751\n"
     ]
    }
   ],
   "source": [
    "with TimerCode() as timer:\n",
    "    print('Время загрузки фильмов')\n",
    "    timer.setup_start_time()\n",
    "    for movie_id in movie_ids:\n",
    "        cur.execute(\"INSERT INTO movies (id, title) VALUES (%s, %s)\", (movie_id, movie_id))\n",
    "    timer.checkpoint()\n",
    "\n"
   ],
   "metadata": {
    "collapsed": false,
    "ExecuteTime": {
     "start_time": "2023-06-03T10:32:06.257670Z",
     "end_time": "2023-06-03T10:32:08.755447Z"
    }
   }
  },
  {
   "cell_type": "code",
   "execution_count": 27,
   "outputs": [
    {
     "name": "stdout",
     "output_type": "stream",
     "text": [
      "Время загрузки закладок\n",
      "Median - 0.033963918685913086\n",
      "Average - 0.033963918685913086\n",
      "Summary - 0.033963918685913086\n"
     ]
    }
   ],
   "source": [
    "with TimerCode() as timer:\n",
    "    print('Время загрузки закладок')\n",
    "    for user_id in user_ids:\n",
    "        bookmarks = [\n",
    "            movie_id for movie_id in random.sample(movie_ids, BOOKMARKS_PER_USER)\n",
    "        ]\n",
    "    timer.setup_start_time()\n",
    "    for movie_id in bookmarks:\n",
    "        cur.execute(\"INSERT INTO bookmarks (user_id, movie_id) VALUES (%s, %s)\", (user_id, movie_id))\n",
    "    timer.checkpoint()\n",
    "\n"
   ],
   "metadata": {
    "collapsed": false,
    "ExecuteTime": {
     "start_time": "2023-06-03T10:32:08.781150Z",
     "end_time": "2023-06-03T10:32:08.907952Z"
    }
   }
  },
  {
   "cell_type": "code",
   "execution_count": 29,
   "outputs": [
    {
     "name": "stdout",
     "output_type": "stream",
     "text": [
      "Время чтения закладок\n",
      "Median - 0.002110004425048828\n",
      "Average - 0.002110004425048828\n",
      "Summary - 0.002110004425048828\n"
     ]
    }
   ],
   "source": [
    "with TimerCode() as timer:\n",
    "    print('Время чтения закладок')\n",
    "    timer.setup_start_time()\n",
    "    cur.execute(\"SELECT * FROM bookmarks;\")\n",
    "    timer.checkpoint()\n",
    "\n",
    "\n",
    "conn.commit()\n",
    "cur.close()\n",
    "conn.close()"
   ],
   "metadata": {
    "collapsed": false,
    "ExecuteTime": {
     "start_time": "2023-06-03T10:33:40.357789Z",
     "end_time": "2023-06-03T10:33:40.380978Z"
    }
   }
  },
  {
   "cell_type": "code",
   "execution_count": null,
   "outputs": [],
   "source": [],
   "metadata": {
    "collapsed": false
   }
  }
 ],
 "metadata": {
  "kernelspec": {
   "display_name": "Python 3",
   "language": "python",
   "name": "python3"
  },
  "language_info": {
   "codemirror_mode": {
    "name": "ipython",
    "version": 2
   },
   "file_extension": ".py",
   "mimetype": "text/x-python",
   "name": "python",
   "nbconvert_exporter": "python",
   "pygments_lexer": "ipython2",
   "version": "2.7.6"
  }
 },
 "nbformat": 4,
 "nbformat_minor": 0
}
