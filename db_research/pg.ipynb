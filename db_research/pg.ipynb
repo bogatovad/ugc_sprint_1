{
 "cells": [
  {
   "cell_type": "markdown",
   "source": [
    "# Исследование Postgres"
   ],
   "metadata": {
    "collapsed": false
   }
  },
  {
   "cell_type": "code",
   "execution_count": 1,
   "outputs": [],
   "source": [
    "import time\n",
    "import statistics\n",
    "\n",
    "class TimerCode:\n",
    "    def __init__(self):\n",
    "        self.start = time.time()\n",
    "        self.durations = []\n",
    "\n",
    "    def setup_start_time(self):\n",
    "        self.start = time.time()\n",
    "\n",
    "    def checkpoint(self):\n",
    "        end_time = time.time()\n",
    "        self.durations.append(end_time - self.start)\n",
    "        self.start = end_time\n",
    "\n",
    "    def get_current_stat(self):\n",
    "        print(f\"Median - {statistics.median(self.durations)}\")\n",
    "        avg = statistics.mean(self.durations)\n",
    "        print(f\"Average - {avg}\")\n",
    "        print(f\"Summary - {sum(self.durations)}\")\n",
    "\n",
    "    def __enter__(self):\n",
    "        return self\n",
    "\n",
    "    def __exit__(self, type, value, traceback):\n",
    "        self.get_current_stat()"
   ],
   "metadata": {
    "collapsed": false,
    "ExecuteTime": {
     "start_time": "2023-06-02T19:28:07.836320Z",
     "end_time": "2023-06-02T19:28:07.845518Z"
    }
   }
  },
  {
   "cell_type": "code",
   "execution_count": null,
   "outputs": [],
   "source": [
    "import psycopg2\n",
    "import uuid\n",
    "import random\n",
    "\n",
    "# Define the database connection parameters\n",
    "db_params = {\n",
    "    'host': 'localhost',\n",
    "    'port': 5432,\n",
    "    'dbname': 'db',\n",
    "    'user': 'user',\n",
    "    'password': 'password'\n",
    "}\n",
    "\n",
    "# Create the connection and cursor objects\n",
    "conn = psycopg2.connect(**db_params)\n",
    "cur = conn.cursor()\n",
    "\n",
    "# Create the users table\n",
    "cur.execute(\"\"\"\n",
    "    CREATE TABLE users (\n",
    "        id UUID PRIMARY KEY,\n",
    "        name VARCHAR(255) NOT NULL\n",
    "    );\n",
    "\"\"\")\n",
    "\n",
    "# Create the movies table\n",
    "cur.execute(\"\"\"\n",
    "    CREATE TABLE movies (\n",
    "        id UUID PRIMARY KEY,\n",
    "        title VARCHAR(255) NOT NULL\n",
    "    );\n",
    "\"\"\")\n",
    "\n",
    "# Create the bookmarks table\n",
    "cur.execute(\"\"\"\n",
    "    CREATE TABLE bookmarks (\n",
    "        user_id UUID REFERENCES users(id),\n",
    "        movie_id UUID REFERENCES movies(id),\n",
    "        PRIMARY KEY (user_id, movie_id)\n",
    "    );\n",
    "\"\"\")\n",
    "\n",
    "# Generate some fake user and movie ids\n",
    "USERS_NUM = 500_000\n",
    "MOVIES_NUM = 30_000\n",
    "\n",
    "BOOKMARKS_PER_USER = 40\n",
    "\n",
    "user_ids = [str(uuid.uuid4()) for _ in range(USERS_NUM)]\n",
    "movie_ids = [str(uuid.uuid4()) for _ in range(MOVIES_NUM)]\n",
    "\n",
    "# Insert the users and movies into the database\n",
    "for user_id in user_ids:\n",
    "    cur.execute(\"INSERT INTO users (id, name) VALUES (%s, 'User %s')\", (user_id, user_id))\n",
    "\n",
    "for movie_id in movie_ids:\n",
    "    cur.execute(\"INSERT INTO movies (id, title) VALUES (%s, 'Movie %s')\", (movie_id, movie_id))\n",
    "\n",
    "# Create the bookmarks for each user\n",
    "for user_id in user_ids:\n",
    "    bookmarks = [\n",
    "        movie_id for movie_id in random.sample(movie_ids, BOOKMARKS_PER_USER)\n",
    "    ]\n",
    "    for movie_id in bookmarks:\n",
    "        cur.execute(\"INSERT INTO bookmarks (user_id, movie_id) VALUES (%s, %s)\", (user_id, movie_id))\n",
    "\n",
    "# Commit the changes and close the cursor and connection\n",
    "conn.commit()\n",
    "cur.close()\n",
    "conn.close()"
   ],
   "metadata": {
    "collapsed": false,
    "pycharm": {
     "is_executing": true
    }
   }
  },
  {
   "cell_type": "code",
   "execution_count": null,
   "outputs": [],
   "source": [],
   "metadata": {
    "collapsed": false
   }
  }
 ],
 "metadata": {
  "kernelspec": {
   "display_name": "Python 3",
   "language": "python",
   "name": "python3"
  },
  "language_info": {
   "codemirror_mode": {
    "name": "ipython",
    "version": 2
   },
   "file_extension": ".py",
   "mimetype": "text/x-python",
   "name": "python",
   "nbconvert_exporter": "python",
   "pygments_lexer": "ipython2",
   "version": "2.7.6"
  }
 },
 "nbformat": 4,
 "nbformat_minor": 0
}
