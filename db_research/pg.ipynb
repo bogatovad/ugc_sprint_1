{
 "cells": [
  {
   "cell_type": "markdown",
   "source": [
    "# Исследование Postgres"
   ],
   "metadata": {
    "collapsed": false
   }
  },
  {
   "cell_type": "code",
   "execution_count": 114,
   "outputs": [],
   "source": [
    "import time\n",
    "import statistics\n",
    "\n",
    "class TimerCode:\n",
    "    def __init__(self):\n",
    "        self.start = time.time()\n",
    "        self.durations = []\n",
    "\n",
    "    def setup_start_time(self):\n",
    "        self.start = time.time()\n",
    "\n",
    "    def checkpoint(self):\n",
    "        end_time = time.time()\n",
    "        self.durations.append(end_time - self.start)\n",
    "        self.start = end_time\n",
    "\n",
    "    def get_current_stat(self):\n",
    "        print(f\"Median - {statistics.median(self.durations)}\")\n",
    "        avg = statistics.mean(self.durations)\n",
    "        print(f\"Average - {avg}\")\n",
    "        print(f\"Summary - {sum(self.durations)}\")\n",
    "\n",
    "    def __enter__(self):\n",
    "        return self\n",
    "\n",
    "    def __exit__(self, type, value, traceback):\n",
    "        self.get_current_stat()"
   ],
   "metadata": {
    "collapsed": false,
    "ExecuteTime": {
     "start_time": "2023-06-03T22:30:11.986120Z",
     "end_time": "2023-06-03T22:30:11.995423Z"
    }
   }
  },
  {
   "cell_type": "code",
   "execution_count": 115,
   "outputs": [],
   "source": [
    "import psycopg2\n",
    "import random\n",
    "\n",
    "db_params = {\n",
    "    'host': 'localhost',\n",
    "    'port': 5432,\n",
    "    'dbname': 'db',\n",
    "    'user': 'user',\n",
    "    'password': 'password'\n",
    "}\n",
    "\n",
    "conn = psycopg2.connect(**db_params)\n",
    "cur = conn.cursor()\n",
    "\n",
    "cur.execute(\"DROP TABLE IF EXISTS users CASCADE;\")\n",
    "cur.execute(\"DROP TABLE IF EXISTS movies CASCADE;\")\n",
    "cur.execute(\"DROP TABLE IF EXISTS bookmarks CASCADE;\")\n",
    "cur.execute(\"\"\"\n",
    "    CREATE TABLE IF NOT EXISTS users (\n",
    "        id int PRIMARY KEY,\n",
    "        name VARCHAR(255) NOT NULL\n",
    "    );\n",
    "\"\"\")\n",
    "\n",
    "cur.execute(\"\"\"\n",
    "    CREATE TABLE IF NOT EXISTS movies (\n",
    "        id int PRIMARY KEY,\n",
    "        title VARCHAR(255) NOT NULL\n",
    "    );\n",
    "\"\"\")\n",
    "\n",
    "cur.execute(\"\"\"\n",
    "    CREATE TABLE IF NOT EXISTS bookmarks (\n",
    "        user_id int REFERENCES users(id),\n",
    "        movie_id int REFERENCES movies(id),\n",
    "        PRIMARY KEY (user_id, movie_id)\n",
    "    );\n",
    "\"\"\")\n",
    "\n",
    "cur.execute(\"TRUNCATE TABLE users CASCADE;\")\n",
    "cur.execute(\"TRUNCATE TABLE movies CASCADE;\")\n",
    "cur.execute(\"TRUNCATE TABLE bookmarks CASCADE;\")\n",
    "\n"
   ],
   "metadata": {
    "collapsed": false,
    "ExecuteTime": {
     "start_time": "2023-06-03T22:30:11.996195Z",
     "end_time": "2023-06-03T22:30:12.079509Z"
    }
   }
  },
  {
   "cell_type": "code",
   "execution_count": 116,
   "outputs": [],
   "source": [
    "# Generate some fake user and movie ids\n",
    "USERS_NUM = 1_000\n",
    "MOVIES_NUM = 3_000\n",
    "\n",
    "BOOKMARKS_PER_USER_LIST = [1, 2, 5, 10, 100, 200, 500, 1000]\n",
    "\n",
    "user_ids = [i for i in range(USERS_NUM)]\n",
    "movie_ids = [i for i in range(MOVIES_NUM)]\n"
   ],
   "metadata": {
    "collapsed": false,
    "ExecuteTime": {
     "start_time": "2023-06-03T22:30:12.081529Z",
     "end_time": "2023-06-03T22:30:12.084255Z"
    }
   }
  },
  {
   "cell_type": "code",
   "execution_count": 117,
   "outputs": [
    {
     "name": "stdout",
     "output_type": "stream",
     "text": [
      "Время загрузки пользователей\n",
      "Median - 0.9113919734954834\n",
      "Average - 0.9113919734954834\n",
      "Summary - 0.9113919734954834\n"
     ]
    }
   ],
   "source": [
    "\n",
    "with TimerCode() as timer:\n",
    "    print('Время загрузки пользователей')\n",
    "    timer.setup_start_time()\n",
    "    for user_id in user_ids:\n",
    "        cur.execute(\"INSERT INTO users (id, name) VALUES (%s, %s)\", (user_id, user_id))\n",
    "    timer.checkpoint()\n"
   ],
   "metadata": {
    "collapsed": false,
    "ExecuteTime": {
     "start_time": "2023-06-03T22:30:12.087314Z",
     "end_time": "2023-06-03T22:30:13.002050Z"
    }
   }
  },
  {
   "cell_type": "code",
   "execution_count": 118,
   "outputs": [
    {
     "name": "stdout",
     "output_type": "stream",
     "text": [
      "Время загрузки фильмов\n",
      "Median - 2.3618149757385254\n",
      "Average - 2.3618149757385254\n",
      "Summary - 2.3618149757385254\n"
     ]
    }
   ],
   "source": [
    "with TimerCode() as timer:\n",
    "    print('Время загрузки фильмов')\n",
    "    timer.setup_start_time()\n",
    "    for movie_id in movie_ids:\n",
    "        cur.execute(\"INSERT INTO movies (id, title) VALUES (%s, %s)\", (movie_id, movie_id))\n",
    "    timer.checkpoint()\n",
    "\n"
   ],
   "metadata": {
    "collapsed": false,
    "ExecuteTime": {
     "start_time": "2023-06-03T22:30:13.004046Z",
     "end_time": "2023-06-03T22:30:15.368944Z"
    }
   }
  },
  {
   "cell_type": "code",
   "execution_count": 119,
   "outputs": [
    {
     "name": "stdout",
     "output_type": "stream",
     "text": [
      "Median - 7.697979927062988\n",
      "Average - 7.697979927062988\n",
      "Summary - 7.697979927062988\n",
      "Время чтения закладок\n",
      "Median - 0.13214898109436035\n",
      "Average - 0.13214898109436035\n",
      "Summary - 0.13214898109436035\n",
      "Всего bookmarks: 309626\n",
      "Всего users: 1000\n",
      "Всего movies: 3000\n",
      "==================================================================================================== \n",
      "\n",
      "Total bookmarks: 500000\n",
      "Время загрузки закладок\n",
      "Median - 18.206341981887817\n",
      "Average - 18.206341981887817\n",
      "Summary - 18.206341981887817\n",
      "Время чтения закладок\n",
      "Median - 0.2248551845550537\n",
      "Average - 0.2248551845550537\n",
      "Summary - 0.2248551845550537\n",
      "Всего bookmarks: 758082\n",
      "Всего users: 1000\n",
      "Всего movies: 3000\n",
      "==================================================================================================== \n",
      "\n",
      "Total bookmarks: 1000000\n",
      "Время загрузки закладок\n",
      "Median - 31.04560112953186\n",
      "Average - 31.04560112953186\n",
      "Summary - 31.04560112953186\n",
      "Время чтения закладок\n",
      "Median - 0.6207370758056641\n",
      "Average - 0.6207370758056641\n",
      "Summary - 0.6207370758056641\n",
      "Всего bookmarks: 1505231\n",
      "Всего users: 1000\n",
      "Всего movies: 3000\n",
      "==================================================================================================== \n",
      "\n",
      "Total bookmarks: 1000\n",
      "Время загрузки закладок\n",
      "Median - 0.07389402389526367\n",
      "Average - 0.07389402389526367\n",
      "Summary - 0.07389402389526367\n",
      "Время чтения закладок\n",
      "Median - 0.0015761852264404297\n",
      "Average - 0.0015761852264404297\n",
      "Summary - 0.0015761852264404297\n",
      "Всего bookmarks: 1000\n",
      "Всего users: 1000\n",
      "Всего movies: 3000\n",
      "================================================== \n",
      "\n",
      "Total bookmarks: 2000\n",
      "Время загрузки закладок\n",
      "Median - 0.07720184326171875\n",
      "Average - 0.07720184326171875\n",
      "Summary - 0.07720184326171875\n",
      "Время чтения закладок\n",
      "Median - 0.003155946731567383\n",
      "Average - 0.003155946731567383\n",
      "Summary - 0.003155946731567383\n",
      "Всего bookmarks: 2999\n",
      "Всего users: 1000\n",
      "Всего movies: 3000\n",
      "================================================== \n",
      "\n",
      "Total bookmarks: 5000\n",
      "Время загрузки закладок\n",
      "Median - 0.18676519393920898\n",
      "Average - 0.18676519393920898\n",
      "Summary - 0.18676519393920898\n",
      "Время чтения закладок\n",
      "Median - 0.0044078826904296875\n",
      "Average - 0.0044078826904296875\n",
      "Summary - 0.0044078826904296875\n",
      "Всего bookmarks: 7993\n",
      "Всего users: 1000\n",
      "Всего movies: 3000\n",
      "================================================== \n",
      "\n",
      "Total bookmarks: 10000\n",
      "Время загрузки закладок\n",
      "Median - 0.3422679901123047\n",
      "Average - 0.3422679901123047\n",
      "Summary - 0.3422679901123047\n",
      "Время чтения закладок\n",
      "Median - 0.009275197982788086\n",
      "Average - 0.009275197982788086\n",
      "Summary - 0.009275197982788086\n",
      "Всего bookmarks: 17973\n",
      "Всего users: 1000\n",
      "Всего movies: 3000\n",
      "================================================== \n",
      "\n",
      "Total bookmarks: 100000\n",
      "Время загрузки закладок\n",
      "Median - 3.2553727626800537\n",
      "Average - 3.2553727626800537\n",
      "Summary - 3.2553727626800537\n",
      "Время чтения закладок\n",
      "Median - 0.03350472450256348\n",
      "Average - 0.03350472450256348\n",
      "Summary - 0.03350472450256348\n",
      "Всего bookmarks: 117368\n",
      "Всего users: 1000\n",
      "Всего movies: 3000\n",
      "================================================== \n",
      "\n",
      "Total bookmarks: 200000\n",
      "Время загрузки закладок\n",
      "Median - 6.341532230377197\n",
      "Average - 6.341532230377197\n",
      "Summary - 6.341532230377197\n",
      "Время чтения закладок\n",
      "Median - 0.11137700080871582\n",
      "Average - 0.11137700080871582\n",
      "Summary - 0.11137700080871582\n",
      "Всего bookmarks: 309526\n",
      "Всего users: 1000\n",
      "Всего movies: 3000\n",
      "================================================== \n",
      "\n",
      "Total bookmarks: 500000\n",
      "Время загрузки закладок\n",
      "Median - 17.196669816970825\n",
      "Average - 17.196669816970825\n",
      "Summary - 17.196669816970825\n",
      "Время чтения закладок\n",
      "Median - 0.2697131633758545\n",
      "Average - 0.2697131633758545\n",
      "Summary - 0.2697131633758545\n",
      "Всего bookmarks: 757950\n",
      "Всего users: 1000\n",
      "Всего movies: 3000\n",
      "================================================== \n",
      "\n",
      "Total bookmarks: 1000000\n",
      "Время загрузки закладок\n",
      "Median - 30.470218896865845\n",
      "Average - 30.470218896865845\n",
      "Summary - 30.470218896865845\n",
      "Время чтения закладок\n",
      "Median - 0.6128718852996826\n",
      "Average - 0.6128718852996826\n",
      "Summary - 0.6128718852996826\n",
      "Всего bookmarks: 1505096\n",
      "Всего users: 1000\n",
      "Всего movies: 3000\n",
      "================================================== \n",
      "\n"
     ]
    }
   ],
   "source": [
    "from psycopg2.extras import execute_values\n",
    "\n",
    "for bookmarks_per_user in BOOKMARKS_PER_USER_LIST:\n",
    "    print(f\"Total bookmarks: {bookmarks_per_user * USERS_NUM}\")\n",
    "    with TimerCode() as timer:\n",
    "        print('Время загрузки закладок')\n",
    "        timer.setup_start_time()\n",
    "        bookmark_tuples = [\n",
    "        (user_id, movie_id) for user_id in user_ids\n",
    "        for movie_id in random.sample(movie_ids, bookmarks_per_user)\n",
    "    ]\n",
    "        execute_values(cur, \"INSERT INTO bookmarks (user_id, movie_id) VALUES %s ON CONFLICT (user_id, movie_id) DO NOTHING\", bookmark_tuples)\n",
    "        timer.checkpoint()\n",
    "\n",
    "    with TimerCode() as timer:\n",
    "        print('Время чтения закладок')\n",
    "        timer.setup_start_time()\n",
    "        cur.execute(\"SELECT * FROM bookmarks;\")\n",
    "        timer.checkpoint()\n",
    "\n",
    "    for item in ('bookmarks', 'users', 'movies'):\n",
    "        cur.execute(f\"SELECT COUNT(*) FROM {item};\")\n",
    "        row = cur.fetchone()\n",
    "        count = row[0]\n",
    "        print(f'Всего {item}: {count}')\n",
    "    print('=' * 50, '\\n')\n",
    "\n",
    "conn.commit()\n",
    "cur.close()\n",
    "conn.close()\n",
    "\n",
    "\n"
   ],
   "metadata": {
    "collapsed": false,
    "ExecuteTime": {
     "start_time": "2023-06-03T22:30:11.969591Z",
     "end_time": "2023-06-03T22:31:14.537671Z"
    }
   }
  }
 ],
 "metadata": {
  "kernelspec": {
   "display_name": "Python 3",
   "language": "python",
   "name": "python3"
  },
  "language_info": {
   "codemirror_mode": {
    "name": "ipython",
    "version": 2
   },
   "file_extension": ".py",
   "mimetype": "text/x-python",
   "name": "python",
   "nbconvert_exporter": "python",
   "pygments_lexer": "ipython2",
   "version": "2.7.6"
  }
 },
 "nbformat": 4,
 "nbformat_minor": 0
}
