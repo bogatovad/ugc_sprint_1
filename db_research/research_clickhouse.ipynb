{
 "cells": [
  {
   "cell_type": "markdown",
   "id": "1dc394a1",
   "metadata": {},
   "source": [
    "## Исследование clickhouse"
   ]
  },
  {
   "cell_type": "markdown",
   "id": "5d3d182f",
   "metadata": {},
   "source": [
    "## Подготовка базы данных"
   ]
  },
  {
   "cell_type": "code",
   "execution_count": 43,
   "id": "4112e3ed",
   "metadata": {},
   "outputs": [],
   "source": [
    "from clickhouse_driver import Client\n",
    "\n",
    "client = Client(host='localhost')"
   ]
  },
  {
   "cell_type": "code",
   "execution_count": 44,
   "id": "613cf286",
   "metadata": {},
   "outputs": [
    {
     "data": {
      "text/plain": [
       "[('INFORMATION_SCHEMA',),\n",
       " ('analysis',),\n",
       " ('default',),\n",
       " ('example',),\n",
       " ('information_schema',),\n",
       " ('system',)]"
      ]
     },
     "execution_count": 44,
     "metadata": {},
     "output_type": "execute_result"
    }
   ],
   "source": [
    "client.execute('SHOW DATABASES')"
   ]
  },
  {
   "cell_type": "code",
   "execution_count": 45,
   "id": "cafc764d",
   "metadata": {},
   "outputs": [
    {
     "data": {
      "text/plain": [
       "[('clickhouse-node1', 9000, 0, '', 3, 0),\n",
       " ('clickhouse-node3', 9000, 0, '', 2, 0),\n",
       " ('clickhouse-node2', 9000, 0, '', 1, 0),\n",
       " ('clickhouse-node4', 9000, 0, '', 0, 0)]"
      ]
     },
     "execution_count": 45,
     "metadata": {},
     "output_type": "execute_result"
    }
   ],
   "source": [
    "# Создаем базу для тестирования\n",
    "create_db_query = \"CREATE DATABASE IF NOT EXISTS analysis ON CLUSTER company_cluster\" \n",
    "\n",
    "client.execute(create_db_query)"
   ]
  },
  {
   "cell_type": "code",
   "execution_count": 58,
   "id": "4b94ea25",
   "metadata": {},
   "outputs": [],
   "source": [
    "# Создаем таблицу для тестирования\n",
    "create_table_query = \"CREATE TABLE analysis.test_progress ON CLUSTER company_cluster (id String, type String, move_id String, movie_timestamp Int64) Engine=MergeTree() ORDER BY id\"\n",
    "\n",
    "client.execute(create_table_query)"
   ]
  },
  {
   "cell_type": "markdown",
   "id": "e5df8d55",
   "metadata": {},
   "source": [
    "## Подготовка скриптов для загрузки данных"
   ]
  },
  {
   "cell_type": "code",
   "execution_count": 59,
   "id": "4618dc1e",
   "metadata": {},
   "outputs": [],
   "source": [
    "import uuid\n",
    "from random import randint\n",
    "\n",
    "\n",
    "def generate_progress_data(count: int):\n",
    "    chunk = []\n",
    "    \n",
    "    for i in range(count):\n",
    "        movie_timestamp = randint(1, 1_000_000_000)\n",
    "        chunk.append((str(uuid.uuid4()), str(uuid.uuid4()), str(uuid.uuid4()), movie_timestamp))\n",
    "\n",
    "    return chunk"
   ]
  },
  {
   "cell_type": "code",
   "execution_count": 187,
   "id": "625576d7",
   "metadata": {},
   "outputs": [],
   "source": [
    "import time\n",
    "import statistics\n",
    "\n",
    "class TimerCode():\n",
    "    def __init__(self):\n",
    "        self.start = time.time()\n",
    "        self.durations = []\n",
    "        \n",
    "    def setup_start_time(self):\n",
    "        self.start = time.time()\n",
    "\n",
    "    def checkpoint(self):\n",
    "        end_time = time.time()\n",
    "        self.durations.append(end_time - self.start)\n",
    "        self.start = end_time\n",
    "    \n",
    "    def get_current_stat(self):\n",
    "        print(f\"Median - {statistics.median(self.durations)}\")\n",
    "        avg = sum(self.durations) / len(self.durations)\n",
    "        print(f\"Average - {avg}\")\n",
    "        print(f\"Summary - {sum(self.durations)}\")\n",
    "        \n",
    "    def __enter__(self):\n",
    "        return self\n",
    "\n",
    "    def __exit__(self, type, value, traceback):\n",
    "        self.get_current_stat()"
   ]
  },
  {
   "cell_type": "markdown",
   "id": "ffb45482",
   "metadata": {},
   "source": [
    "## Тестирование вставки данных"
   ]
  },
  {
   "cell_type": "code",
   "execution_count": 61,
   "id": "e4a30043",
   "metadata": {},
   "outputs": [
    {
     "name": "stdout",
     "output_type": "stream",
     "text": [
      "Median - 0.05293893814086914\n",
      "Average - 0.05293893814086914\n",
      "Summary - 0.05293893814086914\n"
     ]
    }
   ],
   "source": [
    "# тестируем вставку данных списком из 100 штук\n",
    "\n",
    "with TimerCode() as timer:\n",
    "    for _ in range(1):\n",
    "        chunk = generate_progress_data(100)\n",
    "        timer.setup_start_time()\n",
    "        client.execute(\n",
    "                    f\"INSERT INTO analysis.test_progress (id, type, move_id, movie_timestamp) VALUES\",\n",
    "                    chunk,\n",
    "                )\n",
    "        timer.checkpoint()"
   ]
  },
  {
   "cell_type": "code",
   "execution_count": 108,
   "id": "9e41f696",
   "metadata": {},
   "outputs": [
    {
     "name": "stdout",
     "output_type": "stream",
     "text": [
      "Median - 0.016029834747314453\n",
      "Average - 0.016029834747314453\n",
      "Summary - 0.016029834747314453\n"
     ]
    }
   ],
   "source": [
    "# тестируем вставку данных списком из 250 штук\n",
    "\n",
    "with TimerCode() as timer:\n",
    "    for _ in range(1):\n",
    "        chunk = generate_progress_data(250)\n",
    "        timer.setup_start_time()\n",
    "        client.execute(\n",
    "                    f\"INSERT INTO analysis.test_progress (id, type, move_id, movie_timestamp) VALUES\",\n",
    "                    chunk,\n",
    "                )\n",
    "        timer.checkpoint()"
   ]
  },
  {
   "cell_type": "code",
   "execution_count": 107,
   "id": "a8f35aa1",
   "metadata": {},
   "outputs": [
    {
     "name": "stdout",
     "output_type": "stream",
     "text": [
      "Median - 0.0930318832397461\n",
      "Average - 0.0930318832397461\n",
      "Summary - 0.0930318832397461\n"
     ]
    }
   ],
   "source": [
    "# тестируем вставку данных списком из 500 штук\n",
    "\n",
    "with TimerCode() as timer:\n",
    "    for _ in range(1):\n",
    "        chunk = generate_progress_data(500)\n",
    "        timer.setup_start_time()\n",
    "        client.execute(\n",
    "                    f\"INSERT INTO analysis.test_progress (id, type, move_id, movie_timestamp) VALUES\",\n",
    "                    chunk,\n",
    "                )\n",
    "        timer.checkpoint()"
   ]
  },
  {
   "cell_type": "code",
   "execution_count": 109,
   "id": "ce15bcc3",
   "metadata": {},
   "outputs": [
    {
     "name": "stdout",
     "output_type": "stream",
     "text": [
      "Median - 0.10680294036865234\n",
      "Average - 0.10680294036865234\n",
      "Summary - 0.10680294036865234\n"
     ]
    }
   ],
   "source": [
    "# тестируем вставку данных списком из 850 штук\n",
    "\n",
    "with TimerCode() as timer:\n",
    "    for _ in range(1):\n",
    "        chunk = generate_progress_data(850)\n",
    "        timer.setup_start_time()\n",
    "        client.execute(\n",
    "                    f\"INSERT INTO analysis.test_progress (id, type, move_id, movie_timestamp) VALUES\",\n",
    "                    chunk,\n",
    "                )\n",
    "        timer.checkpoint()"
   ]
  },
  {
   "cell_type": "code",
   "execution_count": 110,
   "id": "52e79e19",
   "metadata": {},
   "outputs": [
    {
     "name": "stdout",
     "output_type": "stream",
     "text": [
      "Median - 0.0521237850189209\n",
      "Average - 0.0521237850189209\n",
      "Summary - 0.0521237850189209\n"
     ]
    }
   ],
   "source": [
    "# тестируем вставку данных списком из 1_000 штук\n",
    "\n",
    "with TimerCode() as timer:\n",
    "    for _ in range(1):\n",
    "        chunk = generate_progress_data(1_000)\n",
    "        timer.setup_start_time()\n",
    "        client.execute(\n",
    "                    f\"INSERT INTO analysis.test_progress (id, type, move_id, movie_timestamp) VALUES\",\n",
    "                    chunk,\n",
    "                )\n",
    "        timer.checkpoint()"
   ]
  },
  {
   "cell_type": "code",
   "execution_count": 78,
   "id": "1eba3c27",
   "metadata": {},
   "outputs": [
    {
     "name": "stdout",
     "output_type": "stream",
     "text": [
      "Median - 0.27316999435424805\n",
      "Average - 0.27316999435424805\n",
      "Summary - 0.27316999435424805\n"
     ]
    }
   ],
   "source": [
    "# тестируем вставку данных списком из 10_000 штук\n",
    "\n",
    "with TimerCode() as timer:\n",
    "    for _ in range(1):\n",
    "        chunk = generate_progress_data(10_000)\n",
    "        timer.setup_start_time()\n",
    "        client.execute(\n",
    "                    f\"INSERT INTO analysis.test_progress (id, type, move_id, movie_timestamp) VALUES\",\n",
    "                    chunk,\n",
    "                )\n",
    "        timer.checkpoint()"
   ]
  },
  {
   "cell_type": "code",
   "execution_count": 68,
   "id": "722f0ad2",
   "metadata": {},
   "outputs": [
    {
     "name": "stdout",
     "output_type": "stream",
     "text": [
      "Median - 0.34465885162353516\n",
      "Average - 0.34465885162353516\n",
      "Summary - 0.34465885162353516\n"
     ]
    }
   ],
   "source": [
    "# тестируем вставку данных списком из 50_000 штук\n",
    "\n",
    "with TimerCode() as timer:\n",
    "    for _ in range(1):\n",
    "        chunk = generate_progress_data(50_000)\n",
    "        timer.setup_start_time()\n",
    "        client.execute(\n",
    "                    f\"INSERT INTO analysis.test_progress (id, type, move_id, movie_timestamp) VALUES\",\n",
    "                    chunk,\n",
    "                )\n",
    "        timer.checkpoint()"
   ]
  },
  {
   "cell_type": "code",
   "execution_count": 77,
   "id": "0e203c8b",
   "metadata": {},
   "outputs": [
    {
     "name": "stdout",
     "output_type": "stream",
     "text": [
      "Median - 1.100376844406128\n",
      "Average - 1.100376844406128\n",
      "Summary - 1.100376844406128\n"
     ]
    }
   ],
   "source": [
    "# тестируем вставку данных списком из 100_000 штук\n",
    "\n",
    "with TimerCode() as timer:\n",
    "    for _ in range(1):\n",
    "        chunk = generate_progress_data(100_000)\n",
    "        timer.setup_start_time()\n",
    "        client.execute(\n",
    "                    f\"INSERT INTO analysis.test_progress (id, type, move_id, movie_timestamp) VALUES\",\n",
    "                    chunk,\n",
    "                )\n",
    "        timer.checkpoint()"
   ]
  },
  {
   "cell_type": "code",
   "execution_count": 75,
   "id": "cfa7b830",
   "metadata": {},
   "outputs": [
    {
     "name": "stdout",
     "output_type": "stream",
     "text": [
      "Median - 9.904001712799072\n",
      "Average - 9.904001712799072\n",
      "Summary - 9.904001712799072\n"
     ]
    }
   ],
   "source": [
    "# тестируем вставку данных списком из 1_000_000 штук\n",
    "\n",
    "with TimerCode() as timer:\n",
    "    for _ in range(1):\n",
    "        chunk = generate_progress_data(1_000_000)\n",
    "        timer.setup_start_time()\n",
    "        client.execute(\n",
    "                    f\"INSERT INTO analysis.test_progress (id, type, move_id, movie_timestamp) VALUES\",\n",
    "                    chunk,\n",
    "                )\n",
    "        timer.checkpoint()"
   ]
  },
  {
   "cell_type": "code",
   "execution_count": 79,
   "id": "9341e1a6",
   "metadata": {},
   "outputs": [
    {
     "name": "stdout",
     "output_type": "stream",
     "text": [
      "Median - 42.03411412239075\n",
      "Average - 42.03411412239075\n",
      "Summary - 42.03411412239075\n"
     ]
    }
   ],
   "source": [
    "# тестируем вставку данных списком из 5_000_000 штук\n",
    "\n",
    "with TimerCode() as timer:\n",
    "    for _ in range(1):\n",
    "        chunk = generate_progress_data(5_000_000)\n",
    "        timer.setup_start_time()\n",
    "        client.execute(\n",
    "                    f\"INSERT INTO analysis.test_progress (id, type, move_id, movie_timestamp) VALUES\",\n",
    "                    chunk,\n",
    "                )\n",
    "        timer.checkpoint()"
   ]
  },
  {
   "cell_type": "markdown",
   "id": "c75e45c5",
   "metadata": {},
   "source": [
    "## Тестирование чтения данных\n",
    "\n",
    "На момент исследования количество записей в базе\n",
    "\n",
    "```\n",
    "SELECT count(*)\n",
    "FROM analysis.test_progress\n",
    "\n",
    "Query id: e31af605-edd4-4343-8054-087549e0775c\n",
    "\n",
    "┌──count()─┐\n",
    "│ 11360000 │\n",
    "└──────────┘\n",
    "```"
   ]
  },
  {
   "cell_type": "code",
   "execution_count": 162,
   "id": "99783eb6",
   "metadata": {},
   "outputs": [
    {
     "name": "stdout",
     "output_type": "stream",
     "text": [
      "Median - 0.002722620964050293\n",
      "Average - 0.004478335380554199\n",
      "Summary - 0.04478335380554199\n"
     ]
    }
   ],
   "source": [
    "# тестируем чтение данных 1_000\n",
    "\n",
    "with TimerCode() as timer:\n",
    "    for _ in range(10):\n",
    "        timer.setup_start_time()\n",
    "        client.execute('SELECT count(*) FROM analysis.test_progress LIMIT 1000')\n",
    "        timer.checkpoint()"
   ]
  },
  {
   "cell_type": "code",
   "execution_count": 159,
   "id": "ee6b8dc1",
   "metadata": {},
   "outputs": [
    {
     "name": "stdout",
     "output_type": "stream",
     "text": [
      "Median - 0.0032401084899902344\n",
      "Average - 0.00474696159362793\n",
      "Summary - 0.0474696159362793\n"
     ]
    }
   ],
   "source": [
    "# тестируем чтение данных 10_000\n",
    "\n",
    "with TimerCode() as timer:\n",
    "    for _ in range(10):\n",
    "        timer.setup_start_time()\n",
    "        client.execute('SELECT count(*) FROM analysis.test_progress LIMIT 10000')\n",
    "        timer.checkpoint()"
   ]
  },
  {
   "cell_type": "code",
   "execution_count": 156,
   "id": "27ce1585",
   "metadata": {},
   "outputs": [
    {
     "name": "stdout",
     "output_type": "stream",
     "text": [
      "Median - 0.0041408538818359375\n",
      "Average - 0.011403751373291016\n",
      "Summary - 0.11403751373291016\n"
     ]
    }
   ],
   "source": [
    "# тестируем чтение данных 100_000\n",
    "\n",
    "with TimerCode() as timer:\n",
    "    for _ in range(10):\n",
    "        timer.setup_start_time()\n",
    "        client.execute('SELECT count(*) FROM analysis.test_progress LIMIT 100000')\n",
    "        timer.checkpoint()"
   ]
  },
  {
   "cell_type": "code",
   "execution_count": 155,
   "id": "1c5aa74d",
   "metadata": {},
   "outputs": [
    {
     "name": "stdout",
     "output_type": "stream",
     "text": [
      "Median - 0.003074049949645996\n",
      "Average - 0.003217625617980957\n",
      "Summary - 0.03217625617980957\n"
     ]
    }
   ],
   "source": [
    "# тестируем чтение данных 1_000_000\n",
    "\n",
    "with TimerCode() as timer:\n",
    "    for _ in range(10):\n",
    "        timer.setup_start_time()\n",
    "        client.execute('SELECT count(*) FROM analysis.test_progress LIMIT 1000000')\n",
    "        timer.checkpoint()"
   ]
  },
  {
   "cell_type": "code",
   "execution_count": 154,
   "id": "36caae86",
   "metadata": {},
   "outputs": [
    {
     "name": "stdout",
     "output_type": "stream",
     "text": [
      "Median - 0.004253864288330078\n",
      "Average - 0.006939530372619629\n",
      "Summary - 0.06939530372619629\n"
     ]
    }
   ],
   "source": [
    "# тестируем чтение данных 10_000_000\n",
    "\n",
    "with TimerCode() as timer:\n",
    "    for _ in range(10):\n",
    "        timer.setup_start_time()\n",
    "        client.execute('SELECT count(*) FROM analysis.test_progress LIMIT 10000000')\n",
    "        timer.checkpoint()"
   ]
  },
  {
   "cell_type": "markdown",
   "id": "e06bedc6",
   "metadata": {},
   "source": [
    "## Тестируем чтение + вычисление длины строки"
   ]
  },
  {
   "cell_type": "code",
   "execution_count": 153,
   "id": "92993227",
   "metadata": {},
   "outputs": [
    {
     "name": "stdout",
     "output_type": "stream",
     "text": [
      "Median - 0.010387539863586426\n",
      "Average - 0.010994052886962891\n",
      "Summary - 0.1099405288696289\n"
     ]
    }
   ],
   "source": [
    "# тестируем чтение данных + вычисление длины строки 1_000\n",
    "\n",
    "with TimerCode() as timer:\n",
    "    for _ in range(10):\n",
    "        timer.setup_start_time()\n",
    "        client.execute('SELECT length(type) FROM analysis.test_progress limit 1000')\n",
    "        timer.checkpoint()"
   ]
  },
  {
   "cell_type": "code",
   "execution_count": 96,
   "id": "1dfd3e19",
   "metadata": {},
   "outputs": [
    {
     "name": "stdout",
     "output_type": "stream",
     "text": [
      "Median - 0.09389615058898926\n",
      "Average - 0.09389615058898926\n",
      "Summary - 0.09389615058898926\n"
     ]
    }
   ],
   "source": [
    "# тестируем чтение данных + вычисление длины строки 100_000\n",
    "\n",
    "with TimerCode() as timer:\n",
    "    for _ in range(1):\n",
    "        timer.setup_start_time()\n",
    "        client.execute('SELECT length(type) FROM analysis.test_progress limit 100000')\n",
    "        timer.checkpoint()"
   ]
  },
  {
   "cell_type": "code",
   "execution_count": 104,
   "id": "cf90f382",
   "metadata": {},
   "outputs": [
    {
     "name": "stdout",
     "output_type": "stream",
     "text": [
      "Median - 2.7380447387695312\n",
      "Average - 2.7380447387695312\n",
      "Summary - 2.7380447387695312\n"
     ]
    }
   ],
   "source": [
    "# тестируем чтение данных + вычисление длины строки без лимита\n",
    "\n",
    "with TimerCode() as timer:\n",
    "    for _ in range(1):\n",
    "        timer.setup_start_time()\n",
    "        client.execute('SELECT length(type) FROM analysis.test_progress')\n",
    "        timer.checkpoint()"
   ]
  },
  {
   "cell_type": "markdown",
   "id": "895c5496",
   "metadata": {},
   "source": [
    "## Аналитические задачи"
   ]
  },
  {
   "cell_type": "code",
   "execution_count": 114,
   "id": "b0d6b826",
   "metadata": {},
   "outputs": [
    {
     "name": "stdout",
     "output_type": "stream",
     "text": [
      "Максимальная отметка о просмотренном фильме (999999853,)\n",
      "Median - 0.1840221881866455\n",
      "Average - 0.1840221881866455\n",
      "Summary - 0.1840221881866455\n"
     ]
    }
   ],
   "source": [
    "# Найдем максимальное значение среди movie_timestamp\n",
    "\n",
    "with TimerCode() as timer:\n",
    "    for _ in range(1):\n",
    "        timer.setup_start_time()\n",
    "        result = client.execute('SELECT max(movie_timestamp) FROM analysis.test_progress')\n",
    "        timer.checkpoint()\n",
    "        \n",
    "        for item in result:\n",
    "            print(\"Максимальная отметка о просмотренном фильме\", item)"
   ]
  },
  {
   "cell_type": "code",
   "execution_count": 122,
   "id": "adfcd5b1",
   "metadata": {},
   "outputs": [
    {
     "name": "stdout",
     "output_type": "stream",
     "text": [
      "Энтропия столбца movie_timestamp (23.426580532703348,)\n",
      "Median - 5.341540098190308\n",
      "Average - 5.341540098190308\n",
      "Summary - 5.341540098190308\n"
     ]
    }
   ],
   "source": [
    "# Вычисление энтропии столбца\n",
    "# https://clickhouse.com/docs/ru/sql-reference/aggregate-functions/reference/entropy\n",
    "\n",
    "with TimerCode() as timer:\n",
    "    for _ in range(1):\n",
    "        timer.setup_start_time()\n",
    "        result = client.execute('SELECT entropy(movie_timestamp) FROM analysis.test_progress')\n",
    "        timer.checkpoint()\n",
    "        \n",
    "        for item in result:\n",
    "            print(\"Энтропия столбца movie_timestamp\", item)"
   ]
  },
  {
   "cell_type": "code",
   "execution_count": 165,
   "id": "a861ebf7",
   "metadata": {},
   "outputs": [
    {
     "name": "stdout",
     "output_type": "stream",
     "text": [
      "([(51.0, 51.0, 13441100.0)],)\n",
      "Median - 1.3001930713653564\n",
      "Average - 1.3001930713653564\n",
      "Summary - 1.3001930713653564\n"
     ]
    }
   ],
   "source": [
    "# Построение гистрограммы\n",
    "\n",
    "with TimerCode() as timer:\n",
    "    timer.setup_start_time()\n",
    "    result = client.execute(\"\"\"SELECT histogram(50)(50 + 1) FROM (SELECT * FROM analysis.test_progress)\"\"\")\n",
    "    timer.checkpoint()\n",
    "\n",
    "    for item in result:\n",
    "        print(item)"
   ]
  },
  {
   "cell_type": "code",
   "execution_count": 166,
   "id": "0e8632b6",
   "metadata": {},
   "outputs": [
    {
     "name": "stdout",
     "output_type": "stream",
     "text": [
      "(498155918.5,)\n",
      "Median - 0.16817092895507812\n",
      "Average - 0.16817092895507812\n",
      "Summary - 0.16817092895507812\n"
     ]
    }
   ],
   "source": [
    "# Вычисление квантиля \n",
    "# https://clickhouse.com/docs/ru/sql-reference/aggregate-functions/reference/quantiletiming\n",
    "\n",
    "with TimerCode() as timer:\n",
    "    timer.setup_start_time()\n",
    "    result = client.execute(\"SELECT quantile(movie_timestamp) FROM analysis.test_progress\")\n",
    "    timer.checkpoint()\n",
    "\n",
    "    for item in result:\n",
    "        print(item)"
   ]
  },
  {
   "cell_type": "markdown",
   "id": "81774768",
   "metadata": {},
   "source": [
    "## Тестирование данных поступающих в реальном времени"
   ]
  },
  {
   "cell_type": "code",
   "execution_count": null,
   "id": "816bfef6",
   "metadata": {},
   "outputs": [],
   "source": [
    "def insert_data():\n",
    "    \"\"\"Функция занимается постоянной вставкой данных в хранилище.\"\"\"\n",
    "    for _ in range(10):\n",
    "        chunk = generate_progress_data(50_000)\n",
    "        client.execute(\n",
    "            f\"INSERT INTO analysis.test_progress (id, type, move_id, movie_timestamp) VALUES\",\n",
    "            chunk,\n",
    "        )\n",
    "        print('Вставка данных прошла успешна')\n",
    "        \n",
    "def select_data():\n",
    "    \"\"\"Функция занимается постоянным вычитыванием данных из хранилища.\"\"\"\n",
    "    with TimerCode() as timer:\n",
    "        for _ in range(10):\n",
    "            timer.setup_start_time()\n",
    "            client.execute('SELECT length(type) FROM analysis.test_progress limit 1000')\n",
    "            timer.checkpoint()\n",
    "            timer.get_current_stat()\n",
    "            print('Чтение данных прошло успешно!')\n",
    "            \n",
    "def run():\n",
    "    while True:\n",
    "        insert_data()\n",
    "        select_data()\n",
    "\n",
    "run()\n",
    "\n",
    "## Результат работы\n",
    "\n",
    "# Чтение данных прошло успешно!\n",
    "# Median - 0.01027989387512207\n",
    "# Average - 0.014844179153442383\n",
    "# Summary - 0.11875343322753906\n",
    "# Чтение данных прошло успешно!\n",
    "# Median - 0.010419845581054688\n",
    "# Average - 0.015707148445977107\n",
    "# Summary - 0.14136433601379395\n",
    "# Чтение данных прошло успешно!\n",
    "# Median - 0.01027989387512207\n",
    "# Average - 0.01470353603363037\n",
    "# Summary - 0.1470353603363037\n",
    "# Чтение данных прошло успешно!\n",
    "# Median - 0.01027989387512207\n",
    "# Average - 0.01470353603363037\n",
    "# Summary - 0.1470353603363037\n",
    "# Вставка данных прошла успешна\n",
    "# Вставка данных прошла успешна\n",
    "# Вставка данных прошла успешна\n",
    "# Вставка данных прошла успешна\n",
    "# Вставка данных прошла успешна\n",
    "# Вставка данных прошла успешна\n",
    "# Вставка данных прошла успешна\n",
    "# Вставка данных прошла успешна\n",
    "# Вставка данных прошла успешна\n",
    "# Вставка данных прошла успешна\n",
    "# Median - 0.03676176071166992\n",
    "# Average - 0.03676176071166992\n",
    "# Summary - 0.03676176071166992\n",
    "# Чтение данных прошло успешно!\n",
    "# Median - 0.023945331573486328\n",
    "# Average - 0.023945331573486328\n",
    "# Summary - 0.047890663146972656\n",
    "# Чтение данных прошло успешно!\n",
    "# Median - 0.02214670181274414\n",
    "# Average - 0.023345788319905598\n",
    "# Summary - 0.0700373649597168\n",
    "# Чтение данных прошло успешно!\n",
    "# Median - 0.016637802124023438\n",
    "# Average - 0.019518792629241943\n",
    "# Summary - 0.07807517051696777\n",
    "# Чтение данных прошло успешно!\n",
    "# Median - 0.012897014617919922\n",
    "# Average - 0.01819443702697754\n",
    "# Summary - 0.0909721851348877\n",
    "# Чтение данных прошло успешно!\n",
    "# Median - 0.01204061508178711\n",
    "# Average - 0.017026066780090332\n",
    "# Summary - 0.10215640068054199\n",
    "# Чтение данных прошло успешно!\n",
    "# Median - 0.011184215545654297\n",
    "# Average - 0.016123192650931224\n",
    "# Summary - 0.11286234855651855\n",
    "# Чтение данных прошло успешно!\n",
    "# Median - 0.01204061508178711\n",
    "# Average - 0.015736043453216553\n",
    "# Summary - 0.12588834762573242\n",
    "# Чтение данных прошло успешно!\n",
    "# Median - 0.011184215545654297\n",
    "# Average - 0.01483260260687934\n",
    "# Summary - 0.13349342346191406\n",
    "# Чтение данных прошло успешно!\n",
    "# Median - 0.01204061508178711\n",
    "# Average - 0.014876842498779297\n",
    "# Summary - 0.14876842498779297\n",
    "# Чтение данных прошло успешно!\n",
    "# Median - 0.01204061508178711\n",
    "# Average - 0.014876842498779297\n",
    "# Summary - 0.14876842498779297\n",
    "# Вставка данных прошла успешна\n",
    "# Вставка данных прошла успешна\n",
    "# Вставка данных прошла успешна\n",
    "# Вставка данных прошла успешна\n",
    "# Вставка данных прошла успешна\n",
    "# Вставка данных прошла успешна\n",
    "# Вставка данных прошла успешна\n",
    "# Вставка данных прошла успешна\n",
    "# Вставка данных прошла успешна\n",
    "# Вставка данных прошла успешна\n",
    "# Median - 0.005998134613037109\n",
    "# Average - 0.005998134613037109\n",
    "# Summary - 0.005998134613037109"
   ]
  }
 ],
 "metadata": {
  "kernelspec": {
   "display_name": "Python 3 (ipykernel)",
   "language": "python",
   "name": "python3"
  },
  "language_info": {
   "codemirror_mode": {
    "name": "ipython",
    "version": 3
   },
   "file_extension": ".py",
   "mimetype": "text/x-python",
   "name": "python",
   "nbconvert_exporter": "python",
   "pygments_lexer": "ipython3",
   "version": "3.10.0"
  }
 },
 "nbformat": 4,
 "nbformat_minor": 5
}
